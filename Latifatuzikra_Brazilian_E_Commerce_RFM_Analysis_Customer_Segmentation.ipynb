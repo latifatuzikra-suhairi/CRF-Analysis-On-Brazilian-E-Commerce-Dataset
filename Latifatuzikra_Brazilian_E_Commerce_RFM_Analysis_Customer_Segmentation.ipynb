{
 "cells": [
  {
   "cell_type": "markdown",
   "metadata": {
    "id": "cw9IaV_fcdrW"
   },
   "source": [
    "# Proyek Analisis Data: E-Commerce Public Dataset\n",
    "- **Nama:** Latifatuzikra Suhairi\n",
    "- **Email:** latifatuzikra@gmail.com\n",
    "- **ID Dicoding:** latifatuzikra\n"
   ]
  },
  {
   "cell_type": "markdown",
   "metadata": {
    "id": "hlIMQ4Yoj_BP"
   },
   "source": [
    "Analisis RFM (Recency, Frekuensi, Moneter) adalah pendekatan berbasis perilaku yang mengelompokkan pelanggan ke dalam segmen. Analisis RFM mempertimbangkan 3 hal berikut:\n",
    "- Rencency : Seberapa baru pelanggan melakukan transaksi\n",
    "- Frequency : Seberapa sering pelanggan melakukan transaksi\n",
    "- Monetary : Seberapa banyak biaya yang dikeluarkan pelanggan untuk melakukan transaksi.\n",
    "\n",
    "Analisis RFM bekerja dengan mempelajari data history pelanggan. Hal ini dapat membantu manajer untuk mengidentifikasi pelanggan potensial untuk bisnis yang lebih menguntukan.\n",
    "\n",
    "Dalam studi kasus kali ini, penggunaan analisis RFM diharapkan mampu membantu Olist Store untuk menyaring pelanggan ke dalam berbagai kelompok pelanggan. Kelompok pelanggan ini selanjutnya digunakan oleh manajer untuk mengidentifikasi kelompok pelanggan mana yang dapat membuat bisnis Olist Store lebih menguntungkan."
   ]
  },
  {
   "cell_type": "markdown",
   "metadata": {
    "id": "I4O_qAr1cZFj"
   },
   "source": [
    "## Menentukan Pertanyaan Bisnis\n",
    "1. Bagaimana sebaran pelanggan Olist Store berdasarkan kota dan negara asalnya?\n",
    "2. Kategori produk manakah yang paling sering dibeli dan paling jarang dibeli pelanggan?\n",
    "3. Tipe pembayaran apa saja yang sering digunakan pelanggan untuk bertransaksi?\n",
    "4. Bagaimana perkembangan jumlah order dari pelanggan dari tahun 2016-2018 setiap bulannya?\n",
    "5. Bagaimana segmentasi pelanggan Olist Store berdasarkan nilai recency, frequency, dan monetary-nya?"
   ]
  },
  {
   "cell_type": "markdown",
   "metadata": {
    "id": "TLxZgaZZkLBO"
   },
   "source": [
    "## Import Semua Packages/Library yang Digunakan"
   ]
  },
  {
   "cell_type": "code",
   "execution_count": 1,
   "metadata": {
    "id": "wAfhYGpJkQqd"
   },
   "outputs": [],
   "source": [
    "# import semua library yang dibutuhkan\n",
    "import pandas as pd\n",
    "import numpy as np\n",
    "\n",
    "import matplotlib.pyplot as plt\n",
    "import seaborn as sns\n",
    "\n",
    "import warnings\n",
    "warnings.filterwarnings('ignore')\n",
    "\n",
    "from io import BytesIO\n",
    "from zipfile import ZipFile\n",
    "from urllib.request import urlopen"
   ]
  },
  {
   "cell_type": "markdown",
   "metadata": {
    "id": "5-iMfyYjjV92"
   },
   "source": [
    "## Data Wrangling"
   ]
  },
  {
   "cell_type": "markdown",
   "metadata": {
    "id": "zXFbMAjVqojd"
   },
   "source": [
    "### Gathering Data"
   ]
  },
  {
   "cell_type": "code",
   "execution_count": 2,
   "metadata": {
    "colab": {
     "base_uri": "https://localhost:8080/",
     "height": 206
    },
    "id": "PSrWyN-BxtP6",
    "outputId": "37cf2eec-ada0-4f71-f2e6-6d0e36206c56"
   },
   "outputs": [
    {
     "data": {
      "text/html": [
       "<div>\n",
       "<style scoped>\n",
       "    .dataframe tbody tr th:only-of-type {\n",
       "        vertical-align: middle;\n",
       "    }\n",
       "\n",
       "    .dataframe tbody tr th {\n",
       "        vertical-align: top;\n",
       "    }\n",
       "\n",
       "    .dataframe thead th {\n",
       "        text-align: right;\n",
       "    }\n",
       "</style>\n",
       "<table border=\"1\" class=\"dataframe\">\n",
       "  <thead>\n",
       "    <tr style=\"text-align: right;\">\n",
       "      <th></th>\n",
       "      <th>customer_id</th>\n",
       "      <th>customer_unique_id</th>\n",
       "      <th>customer_zip_code_prefix</th>\n",
       "      <th>customer_city</th>\n",
       "      <th>customer_state</th>\n",
       "    </tr>\n",
       "  </thead>\n",
       "  <tbody>\n",
       "    <tr>\n",
       "      <th>0</th>\n",
       "      <td>06b8999e2fba1a1fbc88172c00ba8bc7</td>\n",
       "      <td>861eff4711a542e4b93843c6dd7febb0</td>\n",
       "      <td>14409</td>\n",
       "      <td>franca</td>\n",
       "      <td>SP</td>\n",
       "    </tr>\n",
       "    <tr>\n",
       "      <th>1</th>\n",
       "      <td>18955e83d337fd6b2def6b18a428ac77</td>\n",
       "      <td>290c77bc529b7ac935b93aa66c333dc3</td>\n",
       "      <td>9790</td>\n",
       "      <td>sao bernardo do campo</td>\n",
       "      <td>SP</td>\n",
       "    </tr>\n",
       "    <tr>\n",
       "      <th>2</th>\n",
       "      <td>4e7b3e00288586ebd08712fdd0374a03</td>\n",
       "      <td>060e732b5b29e8181a18229c7b0b2b5e</td>\n",
       "      <td>1151</td>\n",
       "      <td>sao paulo</td>\n",
       "      <td>SP</td>\n",
       "    </tr>\n",
       "    <tr>\n",
       "      <th>3</th>\n",
       "      <td>b2b6027bc5c5109e529d4dc6358b12c3</td>\n",
       "      <td>259dac757896d24d7702b9acbbff3f3c</td>\n",
       "      <td>8775</td>\n",
       "      <td>mogi das cruzes</td>\n",
       "      <td>SP</td>\n",
       "    </tr>\n",
       "    <tr>\n",
       "      <th>4</th>\n",
       "      <td>4f2d8ab171c80ec8364f7c12e35b23ad</td>\n",
       "      <td>345ecd01c38d18a9036ed96c73b8d066</td>\n",
       "      <td>13056</td>\n",
       "      <td>campinas</td>\n",
       "      <td>SP</td>\n",
       "    </tr>\n",
       "  </tbody>\n",
       "</table>\n",
       "</div>"
      ],
      "text/plain": [
       "                        customer_id                customer_unique_id  \\\n",
       "0  06b8999e2fba1a1fbc88172c00ba8bc7  861eff4711a542e4b93843c6dd7febb0   \n",
       "1  18955e83d337fd6b2def6b18a428ac77  290c77bc529b7ac935b93aa66c333dc3   \n",
       "2  4e7b3e00288586ebd08712fdd0374a03  060e732b5b29e8181a18229c7b0b2b5e   \n",
       "3  b2b6027bc5c5109e529d4dc6358b12c3  259dac757896d24d7702b9acbbff3f3c   \n",
       "4  4f2d8ab171c80ec8364f7c12e35b23ad  345ecd01c38d18a9036ed96c73b8d066   \n",
       "\n",
       "   customer_zip_code_prefix          customer_city customer_state  \n",
       "0                     14409                 franca             SP  \n",
       "1                      9790  sao bernardo do campo             SP  \n",
       "2                      1151              sao paulo             SP  \n",
       "3                      8775        mogi das cruzes             SP  \n",
       "4                     13056               campinas             SP  "
      ]
     },
     "execution_count": 2,
     "metadata": {},
     "output_type": "execute_result"
    }
   ],
   "source": [
    "# mengambil dan membaca data pada tabel customer\n",
    "df_customers = pd.read_csv(\"https://raw.githubusercontent.com/latifatuzikra-suhairi/CRF-Analysis-On-Brazilian-E-Commerce-Dataset/main/Dataset/olist_customers_dataset.csv\")\n",
    "df_customers.head(5)"
   ]
  },
  {
   "cell_type": "code",
   "execution_count": 3,
   "metadata": {
    "colab": {
     "base_uri": "https://localhost:8080/",
     "height": 226
    },
    "id": "KEKRG9Y9yBDp",
    "outputId": "dad6f141-49f6-4c48-9011-8ff344727e75"
   },
   "outputs": [
    {
     "data": {
      "text/html": [
       "<div>\n",
       "<style scoped>\n",
       "    .dataframe tbody tr th:only-of-type {\n",
       "        vertical-align: middle;\n",
       "    }\n",
       "\n",
       "    .dataframe tbody tr th {\n",
       "        vertical-align: top;\n",
       "    }\n",
       "\n",
       "    .dataframe thead th {\n",
       "        text-align: right;\n",
       "    }\n",
       "</style>\n",
       "<table border=\"1\" class=\"dataframe\">\n",
       "  <thead>\n",
       "    <tr style=\"text-align: right;\">\n",
       "      <th></th>\n",
       "      <th>order_id</th>\n",
       "      <th>order_item_id</th>\n",
       "      <th>product_id</th>\n",
       "      <th>seller_id</th>\n",
       "      <th>shipping_limit_date</th>\n",
       "      <th>price</th>\n",
       "      <th>freight_value</th>\n",
       "    </tr>\n",
       "  </thead>\n",
       "  <tbody>\n",
       "    <tr>\n",
       "      <th>0</th>\n",
       "      <td>00010242fe8c5a6d1ba2dd792cb16214</td>\n",
       "      <td>1</td>\n",
       "      <td>4244733e06e7ecb4970a6e2683c13e61</td>\n",
       "      <td>48436dade18ac8b2bce089ec2a041202</td>\n",
       "      <td>2017-09-19 09:45:35</td>\n",
       "      <td>58.90</td>\n",
       "      <td>13.29</td>\n",
       "    </tr>\n",
       "    <tr>\n",
       "      <th>1</th>\n",
       "      <td>00018f77f2f0320c557190d7a144bdd3</td>\n",
       "      <td>1</td>\n",
       "      <td>e5f2d52b802189ee658865ca93d83a8f</td>\n",
       "      <td>dd7ddc04e1b6c2c614352b383efe2d36</td>\n",
       "      <td>2017-05-03 11:05:13</td>\n",
       "      <td>239.90</td>\n",
       "      <td>19.93</td>\n",
       "    </tr>\n",
       "    <tr>\n",
       "      <th>2</th>\n",
       "      <td>000229ec398224ef6ca0657da4fc703e</td>\n",
       "      <td>1</td>\n",
       "      <td>c777355d18b72b67abbeef9df44fd0fd</td>\n",
       "      <td>5b51032eddd242adc84c38acab88f23d</td>\n",
       "      <td>2018-01-18 14:48:30</td>\n",
       "      <td>199.00</td>\n",
       "      <td>17.87</td>\n",
       "    </tr>\n",
       "    <tr>\n",
       "      <th>3</th>\n",
       "      <td>00024acbcdf0a6daa1e931b038114c75</td>\n",
       "      <td>1</td>\n",
       "      <td>7634da152a4610f1595efa32f14722fc</td>\n",
       "      <td>9d7a1d34a5052409006425275ba1c2b4</td>\n",
       "      <td>2018-08-15 10:10:18</td>\n",
       "      <td>12.99</td>\n",
       "      <td>12.79</td>\n",
       "    </tr>\n",
       "    <tr>\n",
       "      <th>4</th>\n",
       "      <td>00042b26cf59d7ce69dfabb4e55b4fd9</td>\n",
       "      <td>1</td>\n",
       "      <td>ac6c3623068f30de03045865e4e10089</td>\n",
       "      <td>df560393f3a51e74553ab94004ba5c87</td>\n",
       "      <td>2017-02-13 13:57:51</td>\n",
       "      <td>199.90</td>\n",
       "      <td>18.14</td>\n",
       "    </tr>\n",
       "  </tbody>\n",
       "</table>\n",
       "</div>"
      ],
      "text/plain": [
       "                           order_id  order_item_id  \\\n",
       "0  00010242fe8c5a6d1ba2dd792cb16214              1   \n",
       "1  00018f77f2f0320c557190d7a144bdd3              1   \n",
       "2  000229ec398224ef6ca0657da4fc703e              1   \n",
       "3  00024acbcdf0a6daa1e931b038114c75              1   \n",
       "4  00042b26cf59d7ce69dfabb4e55b4fd9              1   \n",
       "\n",
       "                         product_id                         seller_id  \\\n",
       "0  4244733e06e7ecb4970a6e2683c13e61  48436dade18ac8b2bce089ec2a041202   \n",
       "1  e5f2d52b802189ee658865ca93d83a8f  dd7ddc04e1b6c2c614352b383efe2d36   \n",
       "2  c777355d18b72b67abbeef9df44fd0fd  5b51032eddd242adc84c38acab88f23d   \n",
       "3  7634da152a4610f1595efa32f14722fc  9d7a1d34a5052409006425275ba1c2b4   \n",
       "4  ac6c3623068f30de03045865e4e10089  df560393f3a51e74553ab94004ba5c87   \n",
       "\n",
       "   shipping_limit_date   price  freight_value  \n",
       "0  2017-09-19 09:45:35   58.90          13.29  \n",
       "1  2017-05-03 11:05:13  239.90          19.93  \n",
       "2  2018-01-18 14:48:30  199.00          17.87  \n",
       "3  2018-08-15 10:10:18   12.99          12.79  \n",
       "4  2017-02-13 13:57:51  199.90          18.14  "
      ]
     },
     "execution_count": 3,
     "metadata": {},
     "output_type": "execute_result"
    }
   ],
   "source": [
    "# membaca data pada tabel order items\n",
    "df_order_items = pd.read_csv(\"https://raw.githubusercontent.com/latifatuzikra-suhairi/CRF-Analysis-On-Brazilian-E-Commerce-Dataset/main/Dataset/olist_order_items_dataset.csv\")\n",
    "df_order_items.head(5)"
   ]
  },
  {
   "cell_type": "code",
   "execution_count": 4,
   "metadata": {
    "colab": {
     "base_uri": "https://localhost:8080/",
     "height": 226
    },
    "id": "tnc96X8MyjdP",
    "outputId": "942f1c8d-bb10-40fa-e316-ed2d8536d634"
   },
   "outputs": [
    {
     "data": {
      "text/html": [
       "<div>\n",
       "<style scoped>\n",
       "    .dataframe tbody tr th:only-of-type {\n",
       "        vertical-align: middle;\n",
       "    }\n",
       "\n",
       "    .dataframe tbody tr th {\n",
       "        vertical-align: top;\n",
       "    }\n",
       "\n",
       "    .dataframe thead th {\n",
       "        text-align: right;\n",
       "    }\n",
       "</style>\n",
       "<table border=\"1\" class=\"dataframe\">\n",
       "  <thead>\n",
       "    <tr style=\"text-align: right;\">\n",
       "      <th></th>\n",
       "      <th>order_id</th>\n",
       "      <th>customer_id</th>\n",
       "      <th>order_status</th>\n",
       "      <th>order_purchase_timestamp</th>\n",
       "      <th>order_approved_at</th>\n",
       "      <th>order_delivered_carrier_date</th>\n",
       "      <th>order_delivered_customer_date</th>\n",
       "      <th>order_estimated_delivery_date</th>\n",
       "    </tr>\n",
       "  </thead>\n",
       "  <tbody>\n",
       "    <tr>\n",
       "      <th>0</th>\n",
       "      <td>e481f51cbdc54678b7cc49136f2d6af7</td>\n",
       "      <td>9ef432eb6251297304e76186b10a928d</td>\n",
       "      <td>delivered</td>\n",
       "      <td>2017-10-02 10:56:33</td>\n",
       "      <td>2017-10-02 11:07:15</td>\n",
       "      <td>2017-10-04 19:55:00</td>\n",
       "      <td>2017-10-10 21:25:13</td>\n",
       "      <td>2017-10-18 00:00:00</td>\n",
       "    </tr>\n",
       "    <tr>\n",
       "      <th>1</th>\n",
       "      <td>53cdb2fc8bc7dce0b6741e2150273451</td>\n",
       "      <td>b0830fb4747a6c6d20dea0b8c802d7ef</td>\n",
       "      <td>delivered</td>\n",
       "      <td>2018-07-24 20:41:37</td>\n",
       "      <td>2018-07-26 03:24:27</td>\n",
       "      <td>2018-07-26 14:31:00</td>\n",
       "      <td>2018-08-07 15:27:45</td>\n",
       "      <td>2018-08-13 00:00:00</td>\n",
       "    </tr>\n",
       "    <tr>\n",
       "      <th>2</th>\n",
       "      <td>47770eb9100c2d0c44946d9cf07ec65d</td>\n",
       "      <td>41ce2a54c0b03bf3443c3d931a367089</td>\n",
       "      <td>delivered</td>\n",
       "      <td>2018-08-08 08:38:49</td>\n",
       "      <td>2018-08-08 08:55:23</td>\n",
       "      <td>2018-08-08 13:50:00</td>\n",
       "      <td>2018-08-17 18:06:29</td>\n",
       "      <td>2018-09-04 00:00:00</td>\n",
       "    </tr>\n",
       "    <tr>\n",
       "      <th>3</th>\n",
       "      <td>949d5b44dbf5de918fe9c16f97b45f8a</td>\n",
       "      <td>f88197465ea7920adcdbec7375364d82</td>\n",
       "      <td>delivered</td>\n",
       "      <td>2017-11-18 19:28:06</td>\n",
       "      <td>2017-11-18 19:45:59</td>\n",
       "      <td>2017-11-22 13:39:59</td>\n",
       "      <td>2017-12-02 00:28:42</td>\n",
       "      <td>2017-12-15 00:00:00</td>\n",
       "    </tr>\n",
       "    <tr>\n",
       "      <th>4</th>\n",
       "      <td>ad21c59c0840e6cb83a9ceb5573f8159</td>\n",
       "      <td>8ab97904e6daea8866dbdbc4fb7aad2c</td>\n",
       "      <td>delivered</td>\n",
       "      <td>2018-02-13 21:18:39</td>\n",
       "      <td>2018-02-13 22:20:29</td>\n",
       "      <td>2018-02-14 19:46:34</td>\n",
       "      <td>2018-02-16 18:17:02</td>\n",
       "      <td>2018-02-26 00:00:00</td>\n",
       "    </tr>\n",
       "  </tbody>\n",
       "</table>\n",
       "</div>"
      ],
      "text/plain": [
       "                           order_id                       customer_id  \\\n",
       "0  e481f51cbdc54678b7cc49136f2d6af7  9ef432eb6251297304e76186b10a928d   \n",
       "1  53cdb2fc8bc7dce0b6741e2150273451  b0830fb4747a6c6d20dea0b8c802d7ef   \n",
       "2  47770eb9100c2d0c44946d9cf07ec65d  41ce2a54c0b03bf3443c3d931a367089   \n",
       "3  949d5b44dbf5de918fe9c16f97b45f8a  f88197465ea7920adcdbec7375364d82   \n",
       "4  ad21c59c0840e6cb83a9ceb5573f8159  8ab97904e6daea8866dbdbc4fb7aad2c   \n",
       "\n",
       "  order_status order_purchase_timestamp    order_approved_at  \\\n",
       "0    delivered      2017-10-02 10:56:33  2017-10-02 11:07:15   \n",
       "1    delivered      2018-07-24 20:41:37  2018-07-26 03:24:27   \n",
       "2    delivered      2018-08-08 08:38:49  2018-08-08 08:55:23   \n",
       "3    delivered      2017-11-18 19:28:06  2017-11-18 19:45:59   \n",
       "4    delivered      2018-02-13 21:18:39  2018-02-13 22:20:29   \n",
       "\n",
       "  order_delivered_carrier_date order_delivered_customer_date  \\\n",
       "0          2017-10-04 19:55:00           2017-10-10 21:25:13   \n",
       "1          2018-07-26 14:31:00           2018-08-07 15:27:45   \n",
       "2          2018-08-08 13:50:00           2018-08-17 18:06:29   \n",
       "3          2017-11-22 13:39:59           2017-12-02 00:28:42   \n",
       "4          2018-02-14 19:46:34           2018-02-16 18:17:02   \n",
       "\n",
       "  order_estimated_delivery_date  \n",
       "0           2017-10-18 00:00:00  \n",
       "1           2018-08-13 00:00:00  \n",
       "2           2018-09-04 00:00:00  \n",
       "3           2017-12-15 00:00:00  \n",
       "4           2018-02-26 00:00:00  "
      ]
     },
     "execution_count": 4,
     "metadata": {},
     "output_type": "execute_result"
    }
   ],
   "source": [
    "# membaca data pada tabel order\n",
    "df_orders = pd.read_csv(\"https://raw.githubusercontent.com/latifatuzikra-suhairi/CRF-Analysis-On-Brazilian-E-Commerce-Dataset/main/Dataset/olist_orders_dataset.csv\")\n",
    "df_orders.head(5)"
   ]
  },
  {
   "cell_type": "code",
   "execution_count": 5,
   "metadata": {
    "colab": {
     "base_uri": "https://localhost:8080/",
     "height": 206
    },
    "id": "AfkTEQswMGL4",
    "outputId": "c531fbf3-31a2-4039-a79b-54f62600ad33"
   },
   "outputs": [
    {
     "data": {
      "text/html": [
       "<div>\n",
       "<style scoped>\n",
       "    .dataframe tbody tr th:only-of-type {\n",
       "        vertical-align: middle;\n",
       "    }\n",
       "\n",
       "    .dataframe tbody tr th {\n",
       "        vertical-align: top;\n",
       "    }\n",
       "\n",
       "    .dataframe thead th {\n",
       "        text-align: right;\n",
       "    }\n",
       "</style>\n",
       "<table border=\"1\" class=\"dataframe\">\n",
       "  <thead>\n",
       "    <tr style=\"text-align: right;\">\n",
       "      <th></th>\n",
       "      <th>order_id</th>\n",
       "      <th>payment_sequential</th>\n",
       "      <th>payment_type</th>\n",
       "      <th>payment_installments</th>\n",
       "      <th>payment_value</th>\n",
       "    </tr>\n",
       "  </thead>\n",
       "  <tbody>\n",
       "    <tr>\n",
       "      <th>0</th>\n",
       "      <td>b81ef226f3fe1789b1e8b2acac839d17</td>\n",
       "      <td>1</td>\n",
       "      <td>credit_card</td>\n",
       "      <td>8</td>\n",
       "      <td>99.33</td>\n",
       "    </tr>\n",
       "    <tr>\n",
       "      <th>1</th>\n",
       "      <td>a9810da82917af2d9aefd1278f1dcfa0</td>\n",
       "      <td>1</td>\n",
       "      <td>credit_card</td>\n",
       "      <td>1</td>\n",
       "      <td>24.39</td>\n",
       "    </tr>\n",
       "    <tr>\n",
       "      <th>2</th>\n",
       "      <td>25e8ea4e93396b6fa0d3dd708e76c1bd</td>\n",
       "      <td>1</td>\n",
       "      <td>credit_card</td>\n",
       "      <td>1</td>\n",
       "      <td>65.71</td>\n",
       "    </tr>\n",
       "    <tr>\n",
       "      <th>3</th>\n",
       "      <td>ba78997921bbcdc1373bb41e913ab953</td>\n",
       "      <td>1</td>\n",
       "      <td>credit_card</td>\n",
       "      <td>8</td>\n",
       "      <td>107.78</td>\n",
       "    </tr>\n",
       "    <tr>\n",
       "      <th>4</th>\n",
       "      <td>42fdf880ba16b47b59251dd489d4441a</td>\n",
       "      <td>1</td>\n",
       "      <td>credit_card</td>\n",
       "      <td>2</td>\n",
       "      <td>128.45</td>\n",
       "    </tr>\n",
       "  </tbody>\n",
       "</table>\n",
       "</div>"
      ],
      "text/plain": [
       "                           order_id  payment_sequential payment_type  \\\n",
       "0  b81ef226f3fe1789b1e8b2acac839d17                   1  credit_card   \n",
       "1  a9810da82917af2d9aefd1278f1dcfa0                   1  credit_card   \n",
       "2  25e8ea4e93396b6fa0d3dd708e76c1bd                   1  credit_card   \n",
       "3  ba78997921bbcdc1373bb41e913ab953                   1  credit_card   \n",
       "4  42fdf880ba16b47b59251dd489d4441a                   1  credit_card   \n",
       "\n",
       "   payment_installments  payment_value  \n",
       "0                     8          99.33  \n",
       "1                     1          24.39  \n",
       "2                     1          65.71  \n",
       "3                     8         107.78  \n",
       "4                     2         128.45  "
      ]
     },
     "execution_count": 5,
     "metadata": {},
     "output_type": "execute_result"
    }
   ],
   "source": [
    "# membaca data pada tabel payment\n",
    "df_orders_payment = pd.read_csv(\"https://raw.githubusercontent.com/latifatuzikra-suhairi/CRF-Analysis-On-Brazilian-E-Commerce-Dataset/main/Dataset/olist_order_payments_dataset.csv\")\n",
    "df_orders_payment.head(5)"
   ]
  },
  {
   "cell_type": "code",
   "execution_count": 6,
   "metadata": {
    "colab": {
     "base_uri": "https://localhost:8080/",
     "height": 226
    },
    "id": "5VS_sl6Vy70P",
    "outputId": "3fa20270-320a-4a88-a83b-9f830ab9e10f"
   },
   "outputs": [
    {
     "data": {
      "text/html": [
       "<div>\n",
       "<style scoped>\n",
       "    .dataframe tbody tr th:only-of-type {\n",
       "        vertical-align: middle;\n",
       "    }\n",
       "\n",
       "    .dataframe tbody tr th {\n",
       "        vertical-align: top;\n",
       "    }\n",
       "\n",
       "    .dataframe thead th {\n",
       "        text-align: right;\n",
       "    }\n",
       "</style>\n",
       "<table border=\"1\" class=\"dataframe\">\n",
       "  <thead>\n",
       "    <tr style=\"text-align: right;\">\n",
       "      <th></th>\n",
       "      <th>product_id</th>\n",
       "      <th>product_category_name</th>\n",
       "      <th>product_name_lenght</th>\n",
       "      <th>product_description_lenght</th>\n",
       "      <th>product_photos_qty</th>\n",
       "      <th>product_weight_g</th>\n",
       "      <th>product_length_cm</th>\n",
       "      <th>product_height_cm</th>\n",
       "      <th>product_width_cm</th>\n",
       "    </tr>\n",
       "  </thead>\n",
       "  <tbody>\n",
       "    <tr>\n",
       "      <th>0</th>\n",
       "      <td>1e9e8ef04dbcff4541ed26657ea517e5</td>\n",
       "      <td>perfumaria</td>\n",
       "      <td>40.0</td>\n",
       "      <td>287.0</td>\n",
       "      <td>1.0</td>\n",
       "      <td>225.0</td>\n",
       "      <td>16.0</td>\n",
       "      <td>10.0</td>\n",
       "      <td>14.0</td>\n",
       "    </tr>\n",
       "    <tr>\n",
       "      <th>1</th>\n",
       "      <td>3aa071139cb16b67ca9e5dea641aaa2f</td>\n",
       "      <td>artes</td>\n",
       "      <td>44.0</td>\n",
       "      <td>276.0</td>\n",
       "      <td>1.0</td>\n",
       "      <td>1000.0</td>\n",
       "      <td>30.0</td>\n",
       "      <td>18.0</td>\n",
       "      <td>20.0</td>\n",
       "    </tr>\n",
       "    <tr>\n",
       "      <th>2</th>\n",
       "      <td>96bd76ec8810374ed1b65e291975717f</td>\n",
       "      <td>esporte_lazer</td>\n",
       "      <td>46.0</td>\n",
       "      <td>250.0</td>\n",
       "      <td>1.0</td>\n",
       "      <td>154.0</td>\n",
       "      <td>18.0</td>\n",
       "      <td>9.0</td>\n",
       "      <td>15.0</td>\n",
       "    </tr>\n",
       "    <tr>\n",
       "      <th>3</th>\n",
       "      <td>cef67bcfe19066a932b7673e239eb23d</td>\n",
       "      <td>bebes</td>\n",
       "      <td>27.0</td>\n",
       "      <td>261.0</td>\n",
       "      <td>1.0</td>\n",
       "      <td>371.0</td>\n",
       "      <td>26.0</td>\n",
       "      <td>4.0</td>\n",
       "      <td>26.0</td>\n",
       "    </tr>\n",
       "    <tr>\n",
       "      <th>4</th>\n",
       "      <td>9dc1a7de274444849c219cff195d0b71</td>\n",
       "      <td>utilidades_domesticas</td>\n",
       "      <td>37.0</td>\n",
       "      <td>402.0</td>\n",
       "      <td>4.0</td>\n",
       "      <td>625.0</td>\n",
       "      <td>20.0</td>\n",
       "      <td>17.0</td>\n",
       "      <td>13.0</td>\n",
       "    </tr>\n",
       "  </tbody>\n",
       "</table>\n",
       "</div>"
      ],
      "text/plain": [
       "                         product_id  product_category_name  \\\n",
       "0  1e9e8ef04dbcff4541ed26657ea517e5             perfumaria   \n",
       "1  3aa071139cb16b67ca9e5dea641aaa2f                  artes   \n",
       "2  96bd76ec8810374ed1b65e291975717f          esporte_lazer   \n",
       "3  cef67bcfe19066a932b7673e239eb23d                  bebes   \n",
       "4  9dc1a7de274444849c219cff195d0b71  utilidades_domesticas   \n",
       "\n",
       "   product_name_lenght  product_description_lenght  product_photos_qty  \\\n",
       "0                 40.0                       287.0                 1.0   \n",
       "1                 44.0                       276.0                 1.0   \n",
       "2                 46.0                       250.0                 1.0   \n",
       "3                 27.0                       261.0                 1.0   \n",
       "4                 37.0                       402.0                 4.0   \n",
       "\n",
       "   product_weight_g  product_length_cm  product_height_cm  product_width_cm  \n",
       "0             225.0               16.0               10.0              14.0  \n",
       "1            1000.0               30.0               18.0              20.0  \n",
       "2             154.0               18.0                9.0              15.0  \n",
       "3             371.0               26.0                4.0              26.0  \n",
       "4             625.0               20.0               17.0              13.0  "
      ]
     },
     "execution_count": 6,
     "metadata": {},
     "output_type": "execute_result"
    }
   ],
   "source": [
    "# membaca data pada tabel produk\n",
    "df_products = pd.read_csv(\"https://raw.githubusercontent.com/latifatuzikra-suhairi/CRF-Analysis-On-Brazilian-E-Commerce-Dataset/main/Dataset/olist_products_dataset.csv\")\n",
    "df_products.head(5)"
   ]
  },
  {
   "cell_type": "code",
   "execution_count": 7,
   "metadata": {
    "colab": {
     "base_uri": "https://localhost:8080/",
     "height": 206
    },
    "id": "1LDAk6Fwz8Os",
    "outputId": "18ae5328-5e19-4ab5-96e6-4bb68963decc"
   },
   "outputs": [
    {
     "data": {
      "text/html": [
       "<div>\n",
       "<style scoped>\n",
       "    .dataframe tbody tr th:only-of-type {\n",
       "        vertical-align: middle;\n",
       "    }\n",
       "\n",
       "    .dataframe tbody tr th {\n",
       "        vertical-align: top;\n",
       "    }\n",
       "\n",
       "    .dataframe thead th {\n",
       "        text-align: right;\n",
       "    }\n",
       "</style>\n",
       "<table border=\"1\" class=\"dataframe\">\n",
       "  <thead>\n",
       "    <tr style=\"text-align: right;\">\n",
       "      <th></th>\n",
       "      <th>product_category_name</th>\n",
       "      <th>product_category_name_english</th>\n",
       "    </tr>\n",
       "  </thead>\n",
       "  <tbody>\n",
       "    <tr>\n",
       "      <th>0</th>\n",
       "      <td>beleza_saude</td>\n",
       "      <td>health_beauty</td>\n",
       "    </tr>\n",
       "    <tr>\n",
       "      <th>1</th>\n",
       "      <td>informatica_acessorios</td>\n",
       "      <td>computers_accessories</td>\n",
       "    </tr>\n",
       "    <tr>\n",
       "      <th>2</th>\n",
       "      <td>automotivo</td>\n",
       "      <td>auto</td>\n",
       "    </tr>\n",
       "    <tr>\n",
       "      <th>3</th>\n",
       "      <td>cama_mesa_banho</td>\n",
       "      <td>bed_bath_table</td>\n",
       "    </tr>\n",
       "    <tr>\n",
       "      <th>4</th>\n",
       "      <td>moveis_decoracao</td>\n",
       "      <td>furniture_decor</td>\n",
       "    </tr>\n",
       "  </tbody>\n",
       "</table>\n",
       "</div>"
      ],
      "text/plain": [
       "    product_category_name product_category_name_english\n",
       "0            beleza_saude                 health_beauty\n",
       "1  informatica_acessorios         computers_accessories\n",
       "2              automotivo                          auto\n",
       "3         cama_mesa_banho                bed_bath_table\n",
       "4        moveis_decoracao               furniture_decor"
      ]
     },
     "execution_count": 7,
     "metadata": {},
     "output_type": "execute_result"
    }
   ],
   "source": [
    "# membaca data pada tabel translate nama kategori produk\n",
    "df_product_category_name_translation = pd.read_csv(\"https://raw.githubusercontent.com/latifatuzikra-suhairi/CRF-Analysis-On-Brazilian-E-Commerce-Dataset/main/Dataset/product_category_name_translation.csv\")\n",
    "df_product_category_name_translation.head(5)"
   ]
  },
  {
   "cell_type": "markdown",
   "metadata": {
    "id": "vQ2zdJ3oxPE3"
   },
   "source": [
    "### Assessing Data"
   ]
  },
  {
   "cell_type": "markdown",
   "metadata": {
    "id": "muzNBajM2ogb"
   },
   "source": [
    "#### 1. Menilai Data Pada Tabel Customers"
   ]
  },
  {
   "cell_type": "code",
   "execution_count": 8,
   "metadata": {
    "colab": {
     "base_uri": "https://localhost:8080/"
    },
    "id": "knxtJRObxUNA",
    "outputId": "b8dba0cc-40a6-4d16-8f76-fceda5fa6d8f"
   },
   "outputs": [
    {
     "name": "stdout",
     "output_type": "stream",
     "text": [
      "<class 'pandas.core.frame.DataFrame'>\n",
      "RangeIndex: 99441 entries, 0 to 99440\n",
      "Data columns (total 5 columns):\n",
      " #   Column                    Non-Null Count  Dtype \n",
      "---  ------                    --------------  ----- \n",
      " 0   customer_id               99441 non-null  object\n",
      " 1   customer_unique_id        99441 non-null  object\n",
      " 2   customer_zip_code_prefix  99441 non-null  int64 \n",
      " 3   customer_city             99441 non-null  object\n",
      " 4   customer_state            99441 non-null  object\n",
      "dtypes: int64(1), object(4)\n",
      "memory usage: 3.8+ MB\n"
     ]
    }
   ],
   "source": [
    "# mendapatkan informasi tabel customers\n",
    "df_customers.info()"
   ]
  },
  {
   "cell_type": "markdown",
   "metadata": {
    "id": "U52gd831mc3F"
   },
   "source": [
    "didapatkan informasi bahwa tabel customers terdiri dari 99441 baris data dengan lima atribut: customer_id dengan tipe data object, customer_unique_id dengan tipe data object, customer_zip_code_prefix dengan tipe data int, customer_city dengan tipe data object, customer_state dengan tipe data object."
   ]
  },
  {
   "cell_type": "code",
   "execution_count": 9,
   "metadata": {
    "colab": {
     "base_uri": "https://localhost:8080/"
    },
    "id": "Nl8yycwR15JL",
    "outputId": "251d8f40-4a6a-4195-a882-5bc1b44691d6"
   },
   "outputs": [
    {
     "data": {
      "text/plain": [
       "customer_id                 0\n",
       "customer_unique_id          0\n",
       "customer_zip_code_prefix    0\n",
       "customer_city               0\n",
       "customer_state              0\n",
       "dtype: int64"
      ]
     },
     "execution_count": 9,
     "metadata": {},
     "output_type": "execute_result"
    }
   ],
   "source": [
    "# memeriksa apakah ada data yang hilang\n",
    "df_customers.isna().sum()"
   ]
  },
  {
   "cell_type": "markdown",
   "metadata": {
    "id": "39ffi0XgnBAS"
   },
   "source": [
    "didapatkan informasi bahwa tabel customers tidak memiliki data yang hilang"
   ]
  },
  {
   "cell_type": "code",
   "execution_count": 10,
   "metadata": {
    "colab": {
     "base_uri": "https://localhost:8080/"
    },
    "id": "BI88PLiVqINt",
    "outputId": "02672bc3-2cd5-4a2e-986d-b791528c9071"
   },
   "outputs": [
    {
     "data": {
      "text/plain": [
       "array(['SP', 'SC', 'MG', 'PR', 'RJ', 'RS', 'PA', 'GO', 'ES', 'BA', 'MA',\n",
       "       'MS', 'CE', 'DF', 'RN', 'PE', 'MT', 'AM', 'AP', 'AL', 'RO', 'PB',\n",
       "       'TO', 'PI', 'AC', 'SE', 'RR'], dtype=object)"
      ]
     },
     "execution_count": 10,
     "metadata": {},
     "output_type": "execute_result"
    }
   ],
   "source": [
    "df_customers['customer_state'].unique()"
   ]
  },
  {
   "cell_type": "code",
   "execution_count": 11,
   "metadata": {
    "colab": {
     "base_uri": "https://localhost:8080/"
    },
    "id": "SgLixubp17YG",
    "outputId": "fdf0f149-a607-42f9-e9bb-cec426e76210"
   },
   "outputs": [
    {
     "name": "stdout",
     "output_type": "stream",
     "text": [
      "Jumlah data duplikat pada tabel customers:  0\n"
     ]
    }
   ],
   "source": [
    "print(\"Jumlah data duplikat pada tabel customers: \",df_customers.duplicated().sum())"
   ]
  },
  {
   "cell_type": "markdown",
   "metadata": {
    "id": "OmNEqgL6nKJI"
   },
   "source": [
    "diketahui bahwa tabel customers tidak memiliki data yang duplikat"
   ]
  },
  {
   "cell_type": "code",
   "execution_count": 12,
   "metadata": {
    "colab": {
     "base_uri": "https://localhost:8080/",
     "height": 394
    },
    "id": "1IJUy9JS2FgP",
    "outputId": "34a53599-51dc-4626-c7c6-d2c09351b064"
   },
   "outputs": [
    {
     "data": {
      "text/html": [
       "<div>\n",
       "<style scoped>\n",
       "    .dataframe tbody tr th:only-of-type {\n",
       "        vertical-align: middle;\n",
       "    }\n",
       "\n",
       "    .dataframe tbody tr th {\n",
       "        vertical-align: top;\n",
       "    }\n",
       "\n",
       "    .dataframe thead th {\n",
       "        text-align: right;\n",
       "    }\n",
       "</style>\n",
       "<table border=\"1\" class=\"dataframe\">\n",
       "  <thead>\n",
       "    <tr style=\"text-align: right;\">\n",
       "      <th></th>\n",
       "      <th>customer_id</th>\n",
       "      <th>customer_unique_id</th>\n",
       "      <th>customer_zip_code_prefix</th>\n",
       "      <th>customer_city</th>\n",
       "      <th>customer_state</th>\n",
       "    </tr>\n",
       "  </thead>\n",
       "  <tbody>\n",
       "    <tr>\n",
       "      <th>count</th>\n",
       "      <td>99441</td>\n",
       "      <td>99441</td>\n",
       "      <td>99441.000000</td>\n",
       "      <td>99441</td>\n",
       "      <td>99441</td>\n",
       "    </tr>\n",
       "    <tr>\n",
       "      <th>unique</th>\n",
       "      <td>99441</td>\n",
       "      <td>96096</td>\n",
       "      <td>NaN</td>\n",
       "      <td>4119</td>\n",
       "      <td>27</td>\n",
       "    </tr>\n",
       "    <tr>\n",
       "      <th>top</th>\n",
       "      <td>06b8999e2fba1a1fbc88172c00ba8bc7</td>\n",
       "      <td>8d50f5eadf50201ccdcedfb9e2ac8455</td>\n",
       "      <td>NaN</td>\n",
       "      <td>sao paulo</td>\n",
       "      <td>SP</td>\n",
       "    </tr>\n",
       "    <tr>\n",
       "      <th>freq</th>\n",
       "      <td>1</td>\n",
       "      <td>17</td>\n",
       "      <td>NaN</td>\n",
       "      <td>15540</td>\n",
       "      <td>41746</td>\n",
       "    </tr>\n",
       "    <tr>\n",
       "      <th>mean</th>\n",
       "      <td>NaN</td>\n",
       "      <td>NaN</td>\n",
       "      <td>35137.474583</td>\n",
       "      <td>NaN</td>\n",
       "      <td>NaN</td>\n",
       "    </tr>\n",
       "    <tr>\n",
       "      <th>std</th>\n",
       "      <td>NaN</td>\n",
       "      <td>NaN</td>\n",
       "      <td>29797.938996</td>\n",
       "      <td>NaN</td>\n",
       "      <td>NaN</td>\n",
       "    </tr>\n",
       "    <tr>\n",
       "      <th>min</th>\n",
       "      <td>NaN</td>\n",
       "      <td>NaN</td>\n",
       "      <td>1003.000000</td>\n",
       "      <td>NaN</td>\n",
       "      <td>NaN</td>\n",
       "    </tr>\n",
       "    <tr>\n",
       "      <th>25%</th>\n",
       "      <td>NaN</td>\n",
       "      <td>NaN</td>\n",
       "      <td>11347.000000</td>\n",
       "      <td>NaN</td>\n",
       "      <td>NaN</td>\n",
       "    </tr>\n",
       "    <tr>\n",
       "      <th>50%</th>\n",
       "      <td>NaN</td>\n",
       "      <td>NaN</td>\n",
       "      <td>24416.000000</td>\n",
       "      <td>NaN</td>\n",
       "      <td>NaN</td>\n",
       "    </tr>\n",
       "    <tr>\n",
       "      <th>75%</th>\n",
       "      <td>NaN</td>\n",
       "      <td>NaN</td>\n",
       "      <td>58900.000000</td>\n",
       "      <td>NaN</td>\n",
       "      <td>NaN</td>\n",
       "    </tr>\n",
       "    <tr>\n",
       "      <th>max</th>\n",
       "      <td>NaN</td>\n",
       "      <td>NaN</td>\n",
       "      <td>99990.000000</td>\n",
       "      <td>NaN</td>\n",
       "      <td>NaN</td>\n",
       "    </tr>\n",
       "  </tbody>\n",
       "</table>\n",
       "</div>"
      ],
      "text/plain": [
       "                             customer_id                customer_unique_id  \\\n",
       "count                              99441                             99441   \n",
       "unique                             99441                             96096   \n",
       "top     06b8999e2fba1a1fbc88172c00ba8bc7  8d50f5eadf50201ccdcedfb9e2ac8455   \n",
       "freq                                   1                                17   \n",
       "mean                                 NaN                               NaN   \n",
       "std                                  NaN                               NaN   \n",
       "min                                  NaN                               NaN   \n",
       "25%                                  NaN                               NaN   \n",
       "50%                                  NaN                               NaN   \n",
       "75%                                  NaN                               NaN   \n",
       "max                                  NaN                               NaN   \n",
       "\n",
       "        customer_zip_code_prefix customer_city customer_state  \n",
       "count               99441.000000         99441          99441  \n",
       "unique                       NaN          4119             27  \n",
       "top                          NaN     sao paulo             SP  \n",
       "freq                         NaN         15540          41746  \n",
       "mean                35137.474583           NaN            NaN  \n",
       "std                 29797.938996           NaN            NaN  \n",
       "min                  1003.000000           NaN            NaN  \n",
       "25%                 11347.000000           NaN            NaN  \n",
       "50%                 24416.000000           NaN            NaN  \n",
       "75%                 58900.000000           NaN            NaN  \n",
       "max                 99990.000000           NaN            NaN  "
      ]
     },
     "execution_count": 12,
     "metadata": {},
     "output_type": "execute_result"
    }
   ],
   "source": [
    "df_customers.describe(include='all')"
   ]
  },
  {
   "cell_type": "markdown",
   "metadata": {
    "id": "FsPgn7ILR3oU"
   },
   "source": [
    "customer city masih menggunakan huruf lowercase dan customer state masih menggunakan akronim"
   ]
  },
  {
   "cell_type": "markdown",
   "metadata": {
    "id": "zse1QBOe2spO"
   },
   "source": [
    "#### 2. Menilai Data Pada Tabel Orders"
   ]
  },
  {
   "cell_type": "code",
   "execution_count": 13,
   "metadata": {
    "colab": {
     "base_uri": "https://localhost:8080/"
    },
    "id": "49goxaCp2uZo",
    "outputId": "68e0422c-2f74-4129-e721-97564cf3e8e9"
   },
   "outputs": [
    {
     "name": "stdout",
     "output_type": "stream",
     "text": [
      "<class 'pandas.core.frame.DataFrame'>\n",
      "RangeIndex: 99441 entries, 0 to 99440\n",
      "Data columns (total 8 columns):\n",
      " #   Column                         Non-Null Count  Dtype \n",
      "---  ------                         --------------  ----- \n",
      " 0   order_id                       99441 non-null  object\n",
      " 1   customer_id                    99441 non-null  object\n",
      " 2   order_status                   99441 non-null  object\n",
      " 3   order_purchase_timestamp       99441 non-null  object\n",
      " 4   order_approved_at              99281 non-null  object\n",
      " 5   order_delivered_carrier_date   97658 non-null  object\n",
      " 6   order_delivered_customer_date  96476 non-null  object\n",
      " 7   order_estimated_delivery_date  99441 non-null  object\n",
      "dtypes: object(8)\n",
      "memory usage: 6.1+ MB\n"
     ]
    }
   ],
   "source": [
    "df_orders.info()"
   ]
  },
  {
   "cell_type": "markdown",
   "metadata": {
    "id": "nHeOeTnXnTyY"
   },
   "source": [
    "didapatkan informasi bahwa tabel orders terdiri dari 99441 baris data dengan delapan atribut:\n",
    "1. order_id dengan tipe data object\n",
    "2. customer_id dengan tipe data object\n",
    "3. order_status dengan tipe data object\n",
    "4. order_purchase_timestamp dengan tipe data object\n",
    "5. order_approved_at dengan tipe data object\n",
    "6. order_delivered_carrier_date dengan tipe data object\n",
    "7. order_delivered_customer_date dengan tipe data object\n",
    "8. order_estimated_delivery_date dengan tipe data object\n",
    "\n",
    "Dari delapan atribut tersebut, terdapat tiga atribut data yang memiliki _missing value_ yaitu:\n",
    "1. atribut order_approved_at,\n",
    "2. order_delivered_carrier_date,\n",
    "3. order_delivered_customer_date\n",
    "\n",
    "Kemudian, diketahui pula bahwa terdapat kesalahan penggunaan tipe data pada beberapa atribut, yang seharusnya menggunakan tipe data date time, yaitu:  \n",
    "1. order_purchase_timestamp,\n",
    "2. order_approved_at,\n",
    "3. order_delivered_carrier_date,\n",
    "4. order_delivered_customer_date,\n",
    "5. order_estimated_delivery_date\n"
   ]
  },
  {
   "cell_type": "code",
   "execution_count": 14,
   "metadata": {
    "colab": {
     "base_uri": "https://localhost:8080/"
    },
    "id": "-Wc46yo94BZa",
    "outputId": "df5a501e-5023-46f3-8527-2e1f00d279c6"
   },
   "outputs": [
    {
     "data": {
      "text/plain": [
       "order_id                            0\n",
       "customer_id                         0\n",
       "order_status                        0\n",
       "order_purchase_timestamp            0\n",
       "order_approved_at                 160\n",
       "order_delivered_carrier_date     1783\n",
       "order_delivered_customer_date    2965\n",
       "order_estimated_delivery_date       0\n",
       "dtype: int64"
      ]
     },
     "execution_count": 14,
     "metadata": {},
     "output_type": "execute_result"
    }
   ],
   "source": [
    "# melihat apakah ada data pada tabel order yang bernilai nan\n",
    "df_orders.isna().sum()"
   ]
  },
  {
   "cell_type": "markdown",
   "metadata": {
    "id": "EpGT2NqWpuOE"
   },
   "source": [
    "Dari delapan atribut tersebut, terdapat tiga atribut data yang memiliki _missing value_ yaitu:\n",
    "1. order_approved_at sebanyak 160 baris\n",
    "2. order_delivered_carrier_date sebanyak 1783 baris\n",
    "3. order_delivered_customer_date sebanyak 2965 baris\n",
    "\n",
    "Namun, _missing value_ tersebut tidak di proses karena data atribut tersebut, tidak digunakan dalam kebutuhan analisis"
   ]
  },
  {
   "cell_type": "code",
   "execution_count": 15,
   "metadata": {
    "colab": {
     "base_uri": "https://localhost:8080/"
    },
    "id": "IMuF9Ci34AFC",
    "outputId": "360dc00f-cc03-4809-b924-89d5183e6c86"
   },
   "outputs": [
    {
     "name": "stdout",
     "output_type": "stream",
     "text": [
      "Jumlah data duplikat pada tabel order:  0\n"
     ]
    }
   ],
   "source": [
    "# melihat apakah ada data duplikat pada tabel order\n",
    "print(\"Jumlah data duplikat pada tabel order: \",df_orders.duplicated().sum())"
   ]
  },
  {
   "cell_type": "markdown",
   "metadata": {
    "id": "gMZAVgDfp3ls"
   },
   "source": [
    "diketahui bahwa tabel order tidak memiliki data duplikat"
   ]
  },
  {
   "cell_type": "code",
   "execution_count": 16,
   "metadata": {
    "colab": {
     "base_uri": "https://localhost:8080/",
     "height": 194
    },
    "id": "k8y2ZTZ03-uT",
    "outputId": "2e078512-d6ae-458c-c91e-dc45d05c00d8"
   },
   "outputs": [
    {
     "data": {
      "text/html": [
       "<div>\n",
       "<style scoped>\n",
       "    .dataframe tbody tr th:only-of-type {\n",
       "        vertical-align: middle;\n",
       "    }\n",
       "\n",
       "    .dataframe tbody tr th {\n",
       "        vertical-align: top;\n",
       "    }\n",
       "\n",
       "    .dataframe thead th {\n",
       "        text-align: right;\n",
       "    }\n",
       "</style>\n",
       "<table border=\"1\" class=\"dataframe\">\n",
       "  <thead>\n",
       "    <tr style=\"text-align: right;\">\n",
       "      <th></th>\n",
       "      <th>order_id</th>\n",
       "      <th>customer_id</th>\n",
       "      <th>order_status</th>\n",
       "      <th>order_purchase_timestamp</th>\n",
       "      <th>order_approved_at</th>\n",
       "      <th>order_delivered_carrier_date</th>\n",
       "      <th>order_delivered_customer_date</th>\n",
       "      <th>order_estimated_delivery_date</th>\n",
       "    </tr>\n",
       "  </thead>\n",
       "  <tbody>\n",
       "    <tr>\n",
       "      <th>count</th>\n",
       "      <td>99441</td>\n",
       "      <td>99441</td>\n",
       "      <td>99441</td>\n",
       "      <td>99441</td>\n",
       "      <td>99281</td>\n",
       "      <td>97658</td>\n",
       "      <td>96476</td>\n",
       "      <td>99441</td>\n",
       "    </tr>\n",
       "    <tr>\n",
       "      <th>unique</th>\n",
       "      <td>99441</td>\n",
       "      <td>99441</td>\n",
       "      <td>8</td>\n",
       "      <td>98875</td>\n",
       "      <td>90733</td>\n",
       "      <td>81018</td>\n",
       "      <td>95664</td>\n",
       "      <td>459</td>\n",
       "    </tr>\n",
       "    <tr>\n",
       "      <th>top</th>\n",
       "      <td>e481f51cbdc54678b7cc49136f2d6af7</td>\n",
       "      <td>9ef432eb6251297304e76186b10a928d</td>\n",
       "      <td>delivered</td>\n",
       "      <td>2018-04-11 10:48:14</td>\n",
       "      <td>2018-02-27 04:31:10</td>\n",
       "      <td>2018-05-09 15:48:00</td>\n",
       "      <td>2018-05-08 23:38:46</td>\n",
       "      <td>2017-12-20 00:00:00</td>\n",
       "    </tr>\n",
       "    <tr>\n",
       "      <th>freq</th>\n",
       "      <td>1</td>\n",
       "      <td>1</td>\n",
       "      <td>96478</td>\n",
       "      <td>3</td>\n",
       "      <td>9</td>\n",
       "      <td>47</td>\n",
       "      <td>3</td>\n",
       "      <td>522</td>\n",
       "    </tr>\n",
       "  </tbody>\n",
       "</table>\n",
       "</div>"
      ],
      "text/plain": [
       "                                order_id                       customer_id  \\\n",
       "count                              99441                             99441   \n",
       "unique                             99441                             99441   \n",
       "top     e481f51cbdc54678b7cc49136f2d6af7  9ef432eb6251297304e76186b10a928d   \n",
       "freq                                   1                                 1   \n",
       "\n",
       "       order_status order_purchase_timestamp    order_approved_at  \\\n",
       "count         99441                    99441                99281   \n",
       "unique            8                    98875                90733   \n",
       "top       delivered      2018-04-11 10:48:14  2018-02-27 04:31:10   \n",
       "freq          96478                        3                    9   \n",
       "\n",
       "       order_delivered_carrier_date order_delivered_customer_date  \\\n",
       "count                         97658                         96476   \n",
       "unique                        81018                         95664   \n",
       "top             2018-05-09 15:48:00           2018-05-08 23:38:46   \n",
       "freq                             47                             3   \n",
       "\n",
       "       order_estimated_delivery_date  \n",
       "count                          99441  \n",
       "unique                           459  \n",
       "top              2017-12-20 00:00:00  \n",
       "freq                             522  "
      ]
     },
     "execution_count": 16,
     "metadata": {},
     "output_type": "execute_result"
    }
   ],
   "source": [
    "# melihat deskripsi statistik pada tabel order\n",
    "df_orders.describe(include='all')"
   ]
  },
  {
   "cell_type": "markdown",
   "metadata": {
    "id": "8ATZ49M14qXr"
   },
   "source": [
    "#### 3. Menilai Data Pada Tabel Order Item"
   ]
  },
  {
   "cell_type": "code",
   "execution_count": 17,
   "metadata": {
    "colab": {
     "base_uri": "https://localhost:8080/"
    },
    "id": "1fymaaWX4wbl",
    "outputId": "f6fd3ccf-30a9-4ea8-9429-e984681248fe"
   },
   "outputs": [
    {
     "name": "stdout",
     "output_type": "stream",
     "text": [
      "<class 'pandas.core.frame.DataFrame'>\n",
      "RangeIndex: 112650 entries, 0 to 112649\n",
      "Data columns (total 7 columns):\n",
      " #   Column               Non-Null Count   Dtype  \n",
      "---  ------               --------------   -----  \n",
      " 0   order_id             112650 non-null  object \n",
      " 1   order_item_id        112650 non-null  int64  \n",
      " 2   product_id           112650 non-null  object \n",
      " 3   seller_id            112650 non-null  object \n",
      " 4   shipping_limit_date  112650 non-null  object \n",
      " 5   price                112650 non-null  float64\n",
      " 6   freight_value        112650 non-null  float64\n",
      "dtypes: float64(2), int64(1), object(4)\n",
      "memory usage: 6.0+ MB\n"
     ]
    }
   ],
   "source": [
    "df_order_items.info()"
   ]
  },
  {
   "cell_type": "markdown",
   "metadata": {
    "id": "YdXADfmrLWCx"
   },
   "source": [
    "didapatkan informasi bahwa tabel orders item terdiri dari 99441 baris data dengan delapan atribut:\n",
    "1. order_id dengan tipe data object\n",
    "2. order_item_id dengan tipe data int64\n",
    "3. product_id dengan tipe data object\n",
    "4. seller_id dengan tipe data object\n",
    "5. shipping_limit_date dengan tipe data object\n",
    "6. price dengan tipe data float\n",
    "7. freight_value dengan tipe data flat\n",
    "\n",
    "Tipe data atribut shipping_limit_date perlu diubah menjadi datetime, karena belum sesuai dengan value yang disimpan pada atribut tersebut"
   ]
  },
  {
   "cell_type": "code",
   "execution_count": 18,
   "metadata": {
    "colab": {
     "base_uri": "https://localhost:8080/"
    },
    "id": "B8THU8dj4_Yb",
    "outputId": "b83e9925-f18b-4179-bdc5-68de4b39ca93"
   },
   "outputs": [
    {
     "data": {
      "text/plain": [
       "order_id               0\n",
       "order_item_id          0\n",
       "product_id             0\n",
       "seller_id              0\n",
       "shipping_limit_date    0\n",
       "price                  0\n",
       "freight_value          0\n",
       "dtype: int64"
      ]
     },
     "execution_count": 18,
     "metadata": {},
     "output_type": "execute_result"
    }
   ],
   "source": [
    "df_order_items.isna().sum()"
   ]
  },
  {
   "cell_type": "markdown",
   "metadata": {
    "id": "1JE43rqpL4lA"
   },
   "source": [
    "didapatkan informasi bahwa tabel order items tidak memiliki _missing value_"
   ]
  },
  {
   "cell_type": "code",
   "execution_count": 19,
   "metadata": {
    "colab": {
     "base_uri": "https://localhost:8080/",
     "height": 414
    },
    "id": "4nMdVHtE5AzQ",
    "outputId": "68427663-7ffe-4d03-d876-30b5081e5fe0"
   },
   "outputs": [
    {
     "data": {
      "text/html": [
       "<div>\n",
       "<style scoped>\n",
       "    .dataframe tbody tr th:only-of-type {\n",
       "        vertical-align: middle;\n",
       "    }\n",
       "\n",
       "    .dataframe tbody tr th {\n",
       "        vertical-align: top;\n",
       "    }\n",
       "\n",
       "    .dataframe thead th {\n",
       "        text-align: right;\n",
       "    }\n",
       "</style>\n",
       "<table border=\"1\" class=\"dataframe\">\n",
       "  <thead>\n",
       "    <tr style=\"text-align: right;\">\n",
       "      <th></th>\n",
       "      <th>order_id</th>\n",
       "      <th>order_item_id</th>\n",
       "      <th>product_id</th>\n",
       "      <th>seller_id</th>\n",
       "      <th>shipping_limit_date</th>\n",
       "      <th>price</th>\n",
       "      <th>freight_value</th>\n",
       "    </tr>\n",
       "  </thead>\n",
       "  <tbody>\n",
       "    <tr>\n",
       "      <th>count</th>\n",
       "      <td>112650</td>\n",
       "      <td>112650.000000</td>\n",
       "      <td>112650</td>\n",
       "      <td>112650</td>\n",
       "      <td>112650</td>\n",
       "      <td>112650.000000</td>\n",
       "      <td>112650.000000</td>\n",
       "    </tr>\n",
       "    <tr>\n",
       "      <th>unique</th>\n",
       "      <td>98666</td>\n",
       "      <td>NaN</td>\n",
       "      <td>32951</td>\n",
       "      <td>3095</td>\n",
       "      <td>93318</td>\n",
       "      <td>NaN</td>\n",
       "      <td>NaN</td>\n",
       "    </tr>\n",
       "    <tr>\n",
       "      <th>top</th>\n",
       "      <td>8272b63d03f5f79c56e9e4120aec44ef</td>\n",
       "      <td>NaN</td>\n",
       "      <td>aca2eb7d00ea1a7b8ebd4e68314663af</td>\n",
       "      <td>6560211a19b47992c3666cc44a7e94c0</td>\n",
       "      <td>2017-07-21 18:25:23</td>\n",
       "      <td>NaN</td>\n",
       "      <td>NaN</td>\n",
       "    </tr>\n",
       "    <tr>\n",
       "      <th>freq</th>\n",
       "      <td>21</td>\n",
       "      <td>NaN</td>\n",
       "      <td>527</td>\n",
       "      <td>2033</td>\n",
       "      <td>21</td>\n",
       "      <td>NaN</td>\n",
       "      <td>NaN</td>\n",
       "    </tr>\n",
       "    <tr>\n",
       "      <th>mean</th>\n",
       "      <td>NaN</td>\n",
       "      <td>1.197834</td>\n",
       "      <td>NaN</td>\n",
       "      <td>NaN</td>\n",
       "      <td>NaN</td>\n",
       "      <td>120.653739</td>\n",
       "      <td>19.990320</td>\n",
       "    </tr>\n",
       "    <tr>\n",
       "      <th>std</th>\n",
       "      <td>NaN</td>\n",
       "      <td>0.705124</td>\n",
       "      <td>NaN</td>\n",
       "      <td>NaN</td>\n",
       "      <td>NaN</td>\n",
       "      <td>183.633928</td>\n",
       "      <td>15.806405</td>\n",
       "    </tr>\n",
       "    <tr>\n",
       "      <th>min</th>\n",
       "      <td>NaN</td>\n",
       "      <td>1.000000</td>\n",
       "      <td>NaN</td>\n",
       "      <td>NaN</td>\n",
       "      <td>NaN</td>\n",
       "      <td>0.850000</td>\n",
       "      <td>0.000000</td>\n",
       "    </tr>\n",
       "    <tr>\n",
       "      <th>25%</th>\n",
       "      <td>NaN</td>\n",
       "      <td>1.000000</td>\n",
       "      <td>NaN</td>\n",
       "      <td>NaN</td>\n",
       "      <td>NaN</td>\n",
       "      <td>39.900000</td>\n",
       "      <td>13.080000</td>\n",
       "    </tr>\n",
       "    <tr>\n",
       "      <th>50%</th>\n",
       "      <td>NaN</td>\n",
       "      <td>1.000000</td>\n",
       "      <td>NaN</td>\n",
       "      <td>NaN</td>\n",
       "      <td>NaN</td>\n",
       "      <td>74.990000</td>\n",
       "      <td>16.260000</td>\n",
       "    </tr>\n",
       "    <tr>\n",
       "      <th>75%</th>\n",
       "      <td>NaN</td>\n",
       "      <td>1.000000</td>\n",
       "      <td>NaN</td>\n",
       "      <td>NaN</td>\n",
       "      <td>NaN</td>\n",
       "      <td>134.900000</td>\n",
       "      <td>21.150000</td>\n",
       "    </tr>\n",
       "    <tr>\n",
       "      <th>max</th>\n",
       "      <td>NaN</td>\n",
       "      <td>21.000000</td>\n",
       "      <td>NaN</td>\n",
       "      <td>NaN</td>\n",
       "      <td>NaN</td>\n",
       "      <td>6735.000000</td>\n",
       "      <td>409.680000</td>\n",
       "    </tr>\n",
       "  </tbody>\n",
       "</table>\n",
       "</div>"
      ],
      "text/plain": [
       "                                order_id  order_item_id  \\\n",
       "count                             112650  112650.000000   \n",
       "unique                             98666            NaN   \n",
       "top     8272b63d03f5f79c56e9e4120aec44ef            NaN   \n",
       "freq                                  21            NaN   \n",
       "mean                                 NaN       1.197834   \n",
       "std                                  NaN       0.705124   \n",
       "min                                  NaN       1.000000   \n",
       "25%                                  NaN       1.000000   \n",
       "50%                                  NaN       1.000000   \n",
       "75%                                  NaN       1.000000   \n",
       "max                                  NaN      21.000000   \n",
       "\n",
       "                              product_id                         seller_id  \\\n",
       "count                             112650                            112650   \n",
       "unique                             32951                              3095   \n",
       "top     aca2eb7d00ea1a7b8ebd4e68314663af  6560211a19b47992c3666cc44a7e94c0   \n",
       "freq                                 527                              2033   \n",
       "mean                                 NaN                               NaN   \n",
       "std                                  NaN                               NaN   \n",
       "min                                  NaN                               NaN   \n",
       "25%                                  NaN                               NaN   \n",
       "50%                                  NaN                               NaN   \n",
       "75%                                  NaN                               NaN   \n",
       "max                                  NaN                               NaN   \n",
       "\n",
       "        shipping_limit_date          price  freight_value  \n",
       "count                112650  112650.000000  112650.000000  \n",
       "unique                93318            NaN            NaN  \n",
       "top     2017-07-21 18:25:23            NaN            NaN  \n",
       "freq                     21            NaN            NaN  \n",
       "mean                    NaN     120.653739      19.990320  \n",
       "std                     NaN     183.633928      15.806405  \n",
       "min                     NaN       0.850000       0.000000  \n",
       "25%                     NaN      39.900000      13.080000  \n",
       "50%                     NaN      74.990000      16.260000  \n",
       "75%                     NaN     134.900000      21.150000  \n",
       "max                     NaN    6735.000000     409.680000  "
      ]
     },
     "execution_count": 19,
     "metadata": {},
     "output_type": "execute_result"
    }
   ],
   "source": [
    "df_order_items.describe(include=\"all\")"
   ]
  },
  {
   "cell_type": "code",
   "execution_count": 20,
   "metadata": {
    "colab": {
     "base_uri": "https://localhost:8080/"
    },
    "id": "ch5Bk3cC5C5E",
    "outputId": "20386ca9-bd94-4844-e80d-dc02d3b007a4"
   },
   "outputs": [
    {
     "name": "stdout",
     "output_type": "stream",
     "text": [
      "Jumlah data duplikat pada tabel order items:  0\n"
     ]
    }
   ],
   "source": [
    "print(\"Jumlah data duplikat pada tabel order items: \",df_order_items.duplicated().sum())"
   ]
  },
  {
   "cell_type": "markdown",
   "metadata": {
    "id": "MesMH6xzPEjW"
   },
   "source": [
    "#### 4. Menilai Tabel Order Payments"
   ]
  },
  {
   "cell_type": "code",
   "execution_count": 21,
   "metadata": {
    "colab": {
     "base_uri": "https://localhost:8080/"
    },
    "id": "ujpQ2-1xPTRM",
    "outputId": "38946d4b-d356-4be3-9691-0fa171d2c19d"
   },
   "outputs": [
    {
     "name": "stdout",
     "output_type": "stream",
     "text": [
      "<class 'pandas.core.frame.DataFrame'>\n",
      "RangeIndex: 103886 entries, 0 to 103885\n",
      "Data columns (total 5 columns):\n",
      " #   Column                Non-Null Count   Dtype  \n",
      "---  ------                --------------   -----  \n",
      " 0   order_id              103886 non-null  object \n",
      " 1   payment_sequential    103886 non-null  int64  \n",
      " 2   payment_type          103886 non-null  object \n",
      " 3   payment_installments  103886 non-null  int64  \n",
      " 4   payment_value         103886 non-null  float64\n",
      "dtypes: float64(1), int64(2), object(2)\n",
      "memory usage: 4.0+ MB\n"
     ]
    }
   ],
   "source": [
    "df_orders_payment.info()"
   ]
  },
  {
   "cell_type": "markdown",
   "metadata": {
    "id": "_fcmTD-PPck5"
   },
   "source": [
    "didapatkan informasi bahwa tabel orders payment terdiri dari 103886 baris data dengan 5 atribut:\n",
    "1. order_id  dengan tipe data object\n",
    "2. payment_sequential dengan tipe data int64\n",
    "3. payment_type dengan tipe data object\n",
    "4. payment_installments dengan tipe data int\n",
    "5. payment_value dengan tipe data float\n"
   ]
  },
  {
   "cell_type": "code",
   "execution_count": 22,
   "metadata": {
    "colab": {
     "base_uri": "https://localhost:8080/"
    },
    "id": "EGy8ulJtPxRD",
    "outputId": "a7832778-2643-495f-8e1c-bde191220b26"
   },
   "outputs": [
    {
     "data": {
      "text/plain": [
       "order_id                0\n",
       "payment_sequential      0\n",
       "payment_type            0\n",
       "payment_installments    0\n",
       "payment_value           0\n",
       "dtype: int64"
      ]
     },
     "execution_count": 22,
     "metadata": {},
     "output_type": "execute_result"
    }
   ],
   "source": [
    "df_orders_payment.isna().sum()"
   ]
  },
  {
   "cell_type": "markdown",
   "metadata": {
    "id": "OIYM8x6YP1zQ"
   },
   "source": [
    "diketahui tidak ada data yang _missing_"
   ]
  },
  {
   "cell_type": "code",
   "execution_count": 23,
   "metadata": {
    "colab": {
     "base_uri": "https://localhost:8080/",
     "height": 394
    },
    "id": "4ihIdFYXh8OO",
    "outputId": "85072558-7971-435f-fa00-ee86e4895472"
   },
   "outputs": [
    {
     "data": {
      "text/html": [
       "<div>\n",
       "<style scoped>\n",
       "    .dataframe tbody tr th:only-of-type {\n",
       "        vertical-align: middle;\n",
       "    }\n",
       "\n",
       "    .dataframe tbody tr th {\n",
       "        vertical-align: top;\n",
       "    }\n",
       "\n",
       "    .dataframe thead th {\n",
       "        text-align: right;\n",
       "    }\n",
       "</style>\n",
       "<table border=\"1\" class=\"dataframe\">\n",
       "  <thead>\n",
       "    <tr style=\"text-align: right;\">\n",
       "      <th></th>\n",
       "      <th>order_id</th>\n",
       "      <th>payment_sequential</th>\n",
       "      <th>payment_type</th>\n",
       "      <th>payment_installments</th>\n",
       "      <th>payment_value</th>\n",
       "    </tr>\n",
       "  </thead>\n",
       "  <tbody>\n",
       "    <tr>\n",
       "      <th>count</th>\n",
       "      <td>103886</td>\n",
       "      <td>103886.000000</td>\n",
       "      <td>103886</td>\n",
       "      <td>103886.000000</td>\n",
       "      <td>103886.000000</td>\n",
       "    </tr>\n",
       "    <tr>\n",
       "      <th>unique</th>\n",
       "      <td>99440</td>\n",
       "      <td>NaN</td>\n",
       "      <td>5</td>\n",
       "      <td>NaN</td>\n",
       "      <td>NaN</td>\n",
       "    </tr>\n",
       "    <tr>\n",
       "      <th>top</th>\n",
       "      <td>fa65dad1b0e818e3ccc5cb0e39231352</td>\n",
       "      <td>NaN</td>\n",
       "      <td>credit_card</td>\n",
       "      <td>NaN</td>\n",
       "      <td>NaN</td>\n",
       "    </tr>\n",
       "    <tr>\n",
       "      <th>freq</th>\n",
       "      <td>29</td>\n",
       "      <td>NaN</td>\n",
       "      <td>76795</td>\n",
       "      <td>NaN</td>\n",
       "      <td>NaN</td>\n",
       "    </tr>\n",
       "    <tr>\n",
       "      <th>mean</th>\n",
       "      <td>NaN</td>\n",
       "      <td>1.092679</td>\n",
       "      <td>NaN</td>\n",
       "      <td>2.853349</td>\n",
       "      <td>154.100380</td>\n",
       "    </tr>\n",
       "    <tr>\n",
       "      <th>std</th>\n",
       "      <td>NaN</td>\n",
       "      <td>0.706584</td>\n",
       "      <td>NaN</td>\n",
       "      <td>2.687051</td>\n",
       "      <td>217.494064</td>\n",
       "    </tr>\n",
       "    <tr>\n",
       "      <th>min</th>\n",
       "      <td>NaN</td>\n",
       "      <td>1.000000</td>\n",
       "      <td>NaN</td>\n",
       "      <td>0.000000</td>\n",
       "      <td>0.000000</td>\n",
       "    </tr>\n",
       "    <tr>\n",
       "      <th>25%</th>\n",
       "      <td>NaN</td>\n",
       "      <td>1.000000</td>\n",
       "      <td>NaN</td>\n",
       "      <td>1.000000</td>\n",
       "      <td>56.790000</td>\n",
       "    </tr>\n",
       "    <tr>\n",
       "      <th>50%</th>\n",
       "      <td>NaN</td>\n",
       "      <td>1.000000</td>\n",
       "      <td>NaN</td>\n",
       "      <td>1.000000</td>\n",
       "      <td>100.000000</td>\n",
       "    </tr>\n",
       "    <tr>\n",
       "      <th>75%</th>\n",
       "      <td>NaN</td>\n",
       "      <td>1.000000</td>\n",
       "      <td>NaN</td>\n",
       "      <td>4.000000</td>\n",
       "      <td>171.837500</td>\n",
       "    </tr>\n",
       "    <tr>\n",
       "      <th>max</th>\n",
       "      <td>NaN</td>\n",
       "      <td>29.000000</td>\n",
       "      <td>NaN</td>\n",
       "      <td>24.000000</td>\n",
       "      <td>13664.080000</td>\n",
       "    </tr>\n",
       "  </tbody>\n",
       "</table>\n",
       "</div>"
      ],
      "text/plain": [
       "                                order_id  payment_sequential payment_type  \\\n",
       "count                             103886       103886.000000       103886   \n",
       "unique                             99440                 NaN            5   \n",
       "top     fa65dad1b0e818e3ccc5cb0e39231352                 NaN  credit_card   \n",
       "freq                                  29                 NaN        76795   \n",
       "mean                                 NaN            1.092679          NaN   \n",
       "std                                  NaN            0.706584          NaN   \n",
       "min                                  NaN            1.000000          NaN   \n",
       "25%                                  NaN            1.000000          NaN   \n",
       "50%                                  NaN            1.000000          NaN   \n",
       "75%                                  NaN            1.000000          NaN   \n",
       "max                                  NaN           29.000000          NaN   \n",
       "\n",
       "        payment_installments  payment_value  \n",
       "count          103886.000000  103886.000000  \n",
       "unique                   NaN            NaN  \n",
       "top                      NaN            NaN  \n",
       "freq                     NaN            NaN  \n",
       "mean                2.853349     154.100380  \n",
       "std                 2.687051     217.494064  \n",
       "min                 0.000000       0.000000  \n",
       "25%                 1.000000      56.790000  \n",
       "50%                 1.000000     100.000000  \n",
       "75%                 4.000000     171.837500  \n",
       "max                24.000000   13664.080000  "
      ]
     },
     "execution_count": 23,
     "metadata": {},
     "output_type": "execute_result"
    }
   ],
   "source": [
    "df_orders_payment.describe(include=\"all\")"
   ]
  },
  {
   "cell_type": "code",
   "execution_count": 24,
   "metadata": {
    "colab": {
     "base_uri": "https://localhost:8080/"
    },
    "id": "zqjBziZYhf1R",
    "outputId": "ebceeed1-d0d7-4314-9d20-df3f8a5fea2a"
   },
   "outputs": [
    {
     "data": {
      "text/plain": [
       "array(['credit_card', 'boleto', 'voucher', 'debit_card', 'not_defined'],\n",
       "      dtype=object)"
      ]
     },
     "execution_count": 24,
     "metadata": {},
     "output_type": "execute_result"
    }
   ],
   "source": [
    "df_orders_payment['payment_type'].unique()"
   ]
  },
  {
   "cell_type": "markdown",
   "metadata": {
    "id": "JLGb111vhmIj"
   },
   "source": [
    "terdapat 5 tipe pembayaran: credit card, boleto, voucher, debit card, not defined"
   ]
  },
  {
   "cell_type": "code",
   "execution_count": 25,
   "metadata": {
    "colab": {
     "base_uri": "https://localhost:8080/"
    },
    "id": "_iTqaELDPR-f",
    "outputId": "0f6c72ff-7c3c-4e44-fa48-61a99f4a4dcd"
   },
   "outputs": [
    {
     "name": "stdout",
     "output_type": "stream",
     "text": [
      "Jumlah data duplikat pada tabel order payment:  0\n"
     ]
    }
   ],
   "source": [
    "print(\"Jumlah data duplikat pada tabel order payment: \",df_orders_payment.duplicated().sum())"
   ]
  },
  {
   "cell_type": "markdown",
   "metadata": {
    "id": "t21b1Ow45uPl"
   },
   "source": [
    "#### 5. Menilai Data Pada Tabel Products"
   ]
  },
  {
   "cell_type": "code",
   "execution_count": 26,
   "metadata": {
    "colab": {
     "base_uri": "https://localhost:8080/"
    },
    "id": "SxsXW-Cw5xgP",
    "outputId": "0a01b10c-8d75-43d2-be77-ef67aac1f235"
   },
   "outputs": [
    {
     "name": "stdout",
     "output_type": "stream",
     "text": [
      "<class 'pandas.core.frame.DataFrame'>\n",
      "RangeIndex: 32951 entries, 0 to 32950\n",
      "Data columns (total 9 columns):\n",
      " #   Column                      Non-Null Count  Dtype  \n",
      "---  ------                      --------------  -----  \n",
      " 0   product_id                  32951 non-null  object \n",
      " 1   product_category_name       32341 non-null  object \n",
      " 2   product_name_lenght         32341 non-null  float64\n",
      " 3   product_description_lenght  32341 non-null  float64\n",
      " 4   product_photos_qty          32341 non-null  float64\n",
      " 5   product_weight_g            32949 non-null  float64\n",
      " 6   product_length_cm           32949 non-null  float64\n",
      " 7   product_height_cm           32949 non-null  float64\n",
      " 8   product_width_cm            32949 non-null  float64\n",
      "dtypes: float64(7), object(2)\n",
      "memory usage: 2.3+ MB\n"
     ]
    }
   ],
   "source": [
    "df_products.info()"
   ]
  },
  {
   "cell_type": "markdown",
   "metadata": {
    "id": "vGYDIBolNDFk"
   },
   "source": [
    "didapatkan informasi bahwa tabel product terdiri dari 32951 baris data dengan 9 atribut: customer_id dengan tipe data object, customer_unique_id dengan tipe data object, customer_zip_code_prefix dengan tipe data int, customer_city dengan tipe data object, customer_state dengan tipe data object.\n",
    "product_id, product_category_name, product_name_lenght,  product_description_lenght, product_photos_qty, product_weight_g, product_length_cm, product_height_cm, product_width_cm"
   ]
  },
  {
   "cell_type": "code",
   "execution_count": 27,
   "metadata": {
    "colab": {
     "base_uri": "https://localhost:8080/"
    },
    "id": "jP5arOZL55cS",
    "outputId": "12eae9e5-f95e-4beb-858f-eb490b2adbfc"
   },
   "outputs": [
    {
     "data": {
      "text/plain": [
       "product_id                      0\n",
       "product_category_name         610\n",
       "product_name_lenght           610\n",
       "product_description_lenght    610\n",
       "product_photos_qty            610\n",
       "product_weight_g                2\n",
       "product_length_cm               2\n",
       "product_height_cm               2\n",
       "product_width_cm                2\n",
       "dtype: int64"
      ]
     },
     "execution_count": 27,
     "metadata": {},
     "output_type": "execute_result"
    }
   ],
   "source": [
    "df_products.isna().sum()"
   ]
  },
  {
   "cell_type": "markdown",
   "metadata": {
    "id": "4knwpdxmMoa8"
   },
   "source": [
    "diketahui bawha terdapat nilai _missing value_ pada tabel products, yaitu pada atribut:\n",
    "1. product_category_name dengan 610 data _missing_\n",
    "2. product_name_lenght dengan 610 data _missing_\n",
    "3. product_description_lengh dengan 610 data _missing_\n",
    "4. product_photos_qty dengan 610 data _missing_\n",
    "\n"
   ]
  },
  {
   "cell_type": "code",
   "execution_count": 28,
   "metadata": {
    "colab": {
     "base_uri": "https://localhost:8080/"
    },
    "id": "4T3LHvWb6Bcm",
    "outputId": "02b06373-3637-4750-8d22-c4722504cd99"
   },
   "outputs": [
    {
     "name": "stdout",
     "output_type": "stream",
     "text": [
      "Jumlah data duplikat pada tabel products:  0\n"
     ]
    }
   ],
   "source": [
    "print(\"Jumlah data duplikat pada tabel products: \",df_products.duplicated().sum())"
   ]
  },
  {
   "cell_type": "code",
   "execution_count": 29,
   "metadata": {
    "colab": {
     "base_uri": "https://localhost:8080/",
     "height": 320
    },
    "id": "9_agZ8v26GmC",
    "outputId": "91c173ba-94bc-44c4-b2eb-e7d8ff3fbc18"
   },
   "outputs": [
    {
     "data": {
      "text/html": [
       "<div>\n",
       "<style scoped>\n",
       "    .dataframe tbody tr th:only-of-type {\n",
       "        vertical-align: middle;\n",
       "    }\n",
       "\n",
       "    .dataframe tbody tr th {\n",
       "        vertical-align: top;\n",
       "    }\n",
       "\n",
       "    .dataframe thead th {\n",
       "        text-align: right;\n",
       "    }\n",
       "</style>\n",
       "<table border=\"1\" class=\"dataframe\">\n",
       "  <thead>\n",
       "    <tr style=\"text-align: right;\">\n",
       "      <th></th>\n",
       "      <th>product_name_lenght</th>\n",
       "      <th>product_description_lenght</th>\n",
       "      <th>product_photos_qty</th>\n",
       "      <th>product_weight_g</th>\n",
       "      <th>product_length_cm</th>\n",
       "      <th>product_height_cm</th>\n",
       "      <th>product_width_cm</th>\n",
       "    </tr>\n",
       "  </thead>\n",
       "  <tbody>\n",
       "    <tr>\n",
       "      <th>count</th>\n",
       "      <td>32341.000000</td>\n",
       "      <td>32341.000000</td>\n",
       "      <td>32341.000000</td>\n",
       "      <td>32949.000000</td>\n",
       "      <td>32949.000000</td>\n",
       "      <td>32949.000000</td>\n",
       "      <td>32949.000000</td>\n",
       "    </tr>\n",
       "    <tr>\n",
       "      <th>mean</th>\n",
       "      <td>48.476949</td>\n",
       "      <td>771.495285</td>\n",
       "      <td>2.188986</td>\n",
       "      <td>2276.472488</td>\n",
       "      <td>30.815078</td>\n",
       "      <td>16.937661</td>\n",
       "      <td>23.196728</td>\n",
       "    </tr>\n",
       "    <tr>\n",
       "      <th>std</th>\n",
       "      <td>10.245741</td>\n",
       "      <td>635.115225</td>\n",
       "      <td>1.736766</td>\n",
       "      <td>4282.038731</td>\n",
       "      <td>16.914458</td>\n",
       "      <td>13.637554</td>\n",
       "      <td>12.079047</td>\n",
       "    </tr>\n",
       "    <tr>\n",
       "      <th>min</th>\n",
       "      <td>5.000000</td>\n",
       "      <td>4.000000</td>\n",
       "      <td>1.000000</td>\n",
       "      <td>0.000000</td>\n",
       "      <td>7.000000</td>\n",
       "      <td>2.000000</td>\n",
       "      <td>6.000000</td>\n",
       "    </tr>\n",
       "    <tr>\n",
       "      <th>25%</th>\n",
       "      <td>42.000000</td>\n",
       "      <td>339.000000</td>\n",
       "      <td>1.000000</td>\n",
       "      <td>300.000000</td>\n",
       "      <td>18.000000</td>\n",
       "      <td>8.000000</td>\n",
       "      <td>15.000000</td>\n",
       "    </tr>\n",
       "    <tr>\n",
       "      <th>50%</th>\n",
       "      <td>51.000000</td>\n",
       "      <td>595.000000</td>\n",
       "      <td>1.000000</td>\n",
       "      <td>700.000000</td>\n",
       "      <td>25.000000</td>\n",
       "      <td>13.000000</td>\n",
       "      <td>20.000000</td>\n",
       "    </tr>\n",
       "    <tr>\n",
       "      <th>75%</th>\n",
       "      <td>57.000000</td>\n",
       "      <td>972.000000</td>\n",
       "      <td>3.000000</td>\n",
       "      <td>1900.000000</td>\n",
       "      <td>38.000000</td>\n",
       "      <td>21.000000</td>\n",
       "      <td>30.000000</td>\n",
       "    </tr>\n",
       "    <tr>\n",
       "      <th>max</th>\n",
       "      <td>76.000000</td>\n",
       "      <td>3992.000000</td>\n",
       "      <td>20.000000</td>\n",
       "      <td>40425.000000</td>\n",
       "      <td>105.000000</td>\n",
       "      <td>105.000000</td>\n",
       "      <td>118.000000</td>\n",
       "    </tr>\n",
       "  </tbody>\n",
       "</table>\n",
       "</div>"
      ],
      "text/plain": [
       "       product_name_lenght  product_description_lenght  product_photos_qty  \\\n",
       "count         32341.000000                32341.000000        32341.000000   \n",
       "mean             48.476949                  771.495285            2.188986   \n",
       "std              10.245741                  635.115225            1.736766   \n",
       "min               5.000000                    4.000000            1.000000   \n",
       "25%              42.000000                  339.000000            1.000000   \n",
       "50%              51.000000                  595.000000            1.000000   \n",
       "75%              57.000000                  972.000000            3.000000   \n",
       "max              76.000000                 3992.000000           20.000000   \n",
       "\n",
       "       product_weight_g  product_length_cm  product_height_cm  \\\n",
       "count      32949.000000       32949.000000       32949.000000   \n",
       "mean        2276.472488          30.815078          16.937661   \n",
       "std         4282.038731          16.914458          13.637554   \n",
       "min            0.000000           7.000000           2.000000   \n",
       "25%          300.000000          18.000000           8.000000   \n",
       "50%          700.000000          25.000000          13.000000   \n",
       "75%         1900.000000          38.000000          21.000000   \n",
       "max        40425.000000         105.000000         105.000000   \n",
       "\n",
       "       product_width_cm  \n",
       "count      32949.000000  \n",
       "mean          23.196728  \n",
       "std           12.079047  \n",
       "min            6.000000  \n",
       "25%           15.000000  \n",
       "50%           20.000000  \n",
       "75%           30.000000  \n",
       "max          118.000000  "
      ]
     },
     "execution_count": 29,
     "metadata": {},
     "output_type": "execute_result"
    }
   ],
   "source": [
    "df_products.describe()"
   ]
  },
  {
   "cell_type": "markdown",
   "metadata": {
    "id": "rvC9WDECTTwj"
   },
   "source": [
    "Kolom product_name_length sampai dengan product_width_cm tidak akan dibutuhkan, sehingga kolom tersebut akan dihapus."
   ]
  },
  {
   "cell_type": "code",
   "execution_count": 30,
   "metadata": {
    "colab": {
     "base_uri": "https://localhost:8080/"
    },
    "id": "r3ys5cEHZb1I",
    "outputId": "53f787b6-ee4a-4209-98fd-9a7653396ff4"
   },
   "outputs": [
    {
     "data": {
      "text/plain": [
       "array(['perfumaria', 'artes', 'esporte_lazer', 'bebes',\n",
       "       'utilidades_domesticas', 'instrumentos_musicais', 'cool_stuff',\n",
       "       'moveis_decoracao', 'eletrodomesticos', 'brinquedos',\n",
       "       'cama_mesa_banho', 'construcao_ferramentas_seguranca',\n",
       "       'informatica_acessorios', 'beleza_saude', 'malas_acessorios',\n",
       "       'ferramentas_jardim', 'moveis_escritorio', 'automotivo',\n",
       "       'eletronicos', 'fashion_calcados', 'telefonia', 'papelaria',\n",
       "       'fashion_bolsas_e_acessorios', 'pcs', 'casa_construcao',\n",
       "       'relogios_presentes', 'construcao_ferramentas_construcao',\n",
       "       'pet_shop', 'eletroportateis', 'agro_industria_e_comercio', nan,\n",
       "       'moveis_sala', 'sinalizacao_e_seguranca', 'climatizacao',\n",
       "       'consoles_games', 'livros_interesse_geral',\n",
       "       'construcao_ferramentas_ferramentas',\n",
       "       'fashion_underwear_e_moda_praia', 'fashion_roupa_masculina',\n",
       "       'moveis_cozinha_area_de_servico_jantar_e_jardim',\n",
       "       'industria_comercio_e_negocios', 'telefonia_fixa',\n",
       "       'construcao_ferramentas_iluminacao', 'livros_tecnicos',\n",
       "       'eletrodomesticos_2', 'artigos_de_festas', 'bebidas',\n",
       "       'market_place', 'la_cuisine', 'construcao_ferramentas_jardim',\n",
       "       'fashion_roupa_feminina', 'casa_conforto', 'audio',\n",
       "       'alimentos_bebidas', 'musica', 'alimentos',\n",
       "       'tablets_impressao_imagem', 'livros_importados',\n",
       "       'portateis_casa_forno_e_cafe', 'fashion_esporte',\n",
       "       'artigos_de_natal', 'fashion_roupa_infanto_juvenil',\n",
       "       'dvds_blu_ray', 'artes_e_artesanato', 'pc_gamer', 'moveis_quarto',\n",
       "       'cine_foto', 'fraldas_higiene', 'flores', 'casa_conforto_2',\n",
       "       'portateis_cozinha_e_preparadores_de_alimentos',\n",
       "       'seguros_e_servicos', 'moveis_colchao_e_estofado',\n",
       "       'cds_dvds_musicais'], dtype=object)"
      ]
     },
     "execution_count": 30,
     "metadata": {},
     "output_type": "execute_result"
    }
   ],
   "source": [
    "df_products['product_category_name'].unique()"
   ]
  },
  {
   "cell_type": "markdown",
   "metadata": {
    "id": "qCBaJLbfNv3M"
   },
   "source": [
    "#### 6. Menilai Data Pada Tabel Product Category Translate"
   ]
  },
  {
   "cell_type": "code",
   "execution_count": 31,
   "metadata": {
    "colab": {
     "base_uri": "https://localhost:8080/"
    },
    "id": "ao5jNLnYN2YQ",
    "outputId": "355d37fd-6c33-4dca-9d11-ddc360243cd8"
   },
   "outputs": [
    {
     "name": "stdout",
     "output_type": "stream",
     "text": [
      "<class 'pandas.core.frame.DataFrame'>\n",
      "RangeIndex: 71 entries, 0 to 70\n",
      "Data columns (total 2 columns):\n",
      " #   Column                         Non-Null Count  Dtype \n",
      "---  ------                         --------------  ----- \n",
      " 0   product_category_name          71 non-null     object\n",
      " 1   product_category_name_english  71 non-null     object\n",
      "dtypes: object(2)\n",
      "memory usage: 1.2+ KB\n"
     ]
    }
   ],
   "source": [
    "df_product_category_name_translation.info()"
   ]
  },
  {
   "cell_type": "markdown",
   "metadata": {
    "id": "piwy-NQ_N-MU"
   },
   "source": [
    "diketahui terdapat 71 data pada tabel Product Category Translate dengan dua atribut: product category name dan product category name english. Penulisan product_category_name_english masih menggunakan lowercase dan separator underscore (\"_\")."
   ]
  },
  {
   "cell_type": "code",
   "execution_count": 32,
   "metadata": {
    "colab": {
     "base_uri": "https://localhost:8080/"
    },
    "id": "iwDXsb2lN39p",
    "outputId": "020c6014-2af7-4f53-d0f2-accd6320f68c"
   },
   "outputs": [
    {
     "data": {
      "text/plain": [
       "product_category_name            0\n",
       "product_category_name_english    0\n",
       "dtype: int64"
      ]
     },
     "execution_count": 32,
     "metadata": {},
     "output_type": "execute_result"
    }
   ],
   "source": [
    "df_product_category_name_translation.isna().sum()"
   ]
  },
  {
   "cell_type": "markdown",
   "metadata": {
    "id": "I6Hnd5OwOLvp"
   },
   "source": [
    "diketahui tidak ada _missing value_ pada tabel Product Category Translate"
   ]
  },
  {
   "cell_type": "code",
   "execution_count": 33,
   "metadata": {
    "colab": {
     "base_uri": "https://localhost:8080/"
    },
    "id": "0QH9uHrXZk9H",
    "outputId": "62b3170b-08ba-408b-9a8a-ac2822a9413f"
   },
   "outputs": [
    {
     "data": {
      "text/plain": [
       "array(['beleza_saude', 'informatica_acessorios', 'automotivo',\n",
       "       'cama_mesa_banho', 'moveis_decoracao', 'esporte_lazer',\n",
       "       'perfumaria', 'utilidades_domesticas', 'telefonia',\n",
       "       'relogios_presentes', 'alimentos_bebidas', 'bebes', 'papelaria',\n",
       "       'tablets_impressao_imagem', 'brinquedos', 'telefonia_fixa',\n",
       "       'ferramentas_jardim', 'fashion_bolsas_e_acessorios',\n",
       "       'eletroportateis', 'consoles_games', 'audio', 'fashion_calcados',\n",
       "       'cool_stuff', 'malas_acessorios', 'climatizacao',\n",
       "       'construcao_ferramentas_construcao',\n",
       "       'moveis_cozinha_area_de_servico_jantar_e_jardim',\n",
       "       'construcao_ferramentas_jardim', 'fashion_roupa_masculina',\n",
       "       'pet_shop', 'moveis_escritorio', 'market_place', 'eletronicos',\n",
       "       'eletrodomesticos', 'artigos_de_festas', 'casa_conforto',\n",
       "       'construcao_ferramentas_ferramentas', 'agro_industria_e_comercio',\n",
       "       'moveis_colchao_e_estofado', 'livros_tecnicos', 'casa_construcao',\n",
       "       'instrumentos_musicais', 'moveis_sala',\n",
       "       'construcao_ferramentas_iluminacao',\n",
       "       'industria_comercio_e_negocios', 'alimentos', 'artes',\n",
       "       'moveis_quarto', 'livros_interesse_geral',\n",
       "       'construcao_ferramentas_seguranca',\n",
       "       'fashion_underwear_e_moda_praia', 'fashion_esporte',\n",
       "       'sinalizacao_e_seguranca', 'pcs', 'artigos_de_natal',\n",
       "       'fashion_roupa_feminina', 'eletrodomesticos_2',\n",
       "       'livros_importados', 'bebidas', 'cine_foto', 'la_cuisine',\n",
       "       'musica', 'casa_conforto_2', 'portateis_casa_forno_e_cafe',\n",
       "       'cds_dvds_musicais', 'dvds_blu_ray', 'flores',\n",
       "       'artes_e_artesanato', 'fraldas_higiene',\n",
       "       'fashion_roupa_infanto_juvenil', 'seguros_e_servicos'],\n",
       "      dtype=object)"
      ]
     },
     "execution_count": 33,
     "metadata": {},
     "output_type": "execute_result"
    }
   ],
   "source": [
    "df_product_category_name_translation['product_category_name'].unique()"
   ]
  },
  {
   "cell_type": "markdown",
   "metadata": {
    "id": "WLIEXCJsZmUa"
   },
   "source": [
    "terdapat nama kategori product yang ada pada tabel product, tetapi belum terdaftar di tabel product category name translate, sehingga harus ditambahkan"
   ]
  },
  {
   "cell_type": "markdown",
   "metadata": {
    "id": "BHW2u-4sqGZ0"
   },
   "source": [
    "### Cleaning Data"
   ]
  },
  {
   "cell_type": "markdown",
   "metadata": {
    "id": "VuTLiOTKfhvF"
   },
   "source": [
    "#### 1. Cleaning Data Tabel Customers"
   ]
  },
  {
   "cell_type": "code",
   "execution_count": 34,
   "metadata": {
    "id": "wk3bVDKzTnpf"
   },
   "outputs": [],
   "source": [
    "# mengubah akronim city state menjadi kepanjangannnya.\n",
    "# data singkatan nama negara brazilian didapat dari https://id.wikipedia.org/wiki/Negara_bagian_di_Brasil\n",
    "brazilian_state = {\"AC\" : \"Acre\",\n",
    "                   \"AL\" : \"Alagos\",\n",
    "                   \"AP\" : \"Amapa\",\n",
    "                   \"AM\" : \"Amazonas\",\n",
    "                   \"BA\" : \"Bahia\",\n",
    "                   \"CE\" : \"Ceara\",\n",
    "                   \"DF\" : \"Distrito Fedderal\",\n",
    "                   \"ES\" : \"Espirito Santo\",\n",
    "                   \"GO\" : \"Goias\",\n",
    "                   \"MA\" : \"Maranhao\",\n",
    "                   \"MT\" : \"Mato Grosso\",\n",
    "                   \"MS\" : \"Mato Grosso do Sul\",\n",
    "                   \"MG\" : \"Minas Gerais\",\n",
    "                   \"PA\" : \"Para\",\n",
    "                   \"PB\" : \"Paraiba\",\n",
    "                   \"PR\" : \"Parana\",\n",
    "                   \"PE\" : \"Pernambuco\",\n",
    "                   \"PI\" : \"Piaui\",\n",
    "                   \"RJ\" : \"Rio de Janeiro\",\n",
    "                   \"RN\" : \"Rio Grande do Sul\",\n",
    "                   \"RO\" : \"Rondonia\",\n",
    "                   \"RR\" : \"Roraima\",\n",
    "                   \"RS\" : \"Rio Grande do Sul\",\n",
    "                   \"SC\" : \"Santa Catarina\",\n",
    "                   \"SP\" : \"Sao Paulo\",\n",
    "                   \"SE\" : \"Sergipe\",\n",
    "                   \"TO\" : \"Tocantins\"\n",
    "                   }\n",
    "\n",
    "df_customers['customer_state'] = df_customers['customer_state'].map(brazilian_state)"
   ]
  },
  {
   "cell_type": "code",
   "execution_count": 35,
   "metadata": {
    "colab": {
     "base_uri": "https://localhost:8080/"
    },
    "id": "WQrmJXcSWXNl",
    "outputId": "e18c0a21-b958-4aca-bbf6-9d16173fd27d"
   },
   "outputs": [
    {
     "data": {
      "text/plain": [
       "0                   Franca\n",
       "1    Sao Bernardo Do Campo\n",
       "2                Sao Paulo\n",
       "3          Mogi Das Cruzes\n",
       "4                 Campinas\n",
       "Name: customer_city, dtype: object"
      ]
     },
     "execution_count": 35,
     "metadata": {},
     "output_type": "execute_result"
    }
   ],
   "source": [
    "# mengubah data customer_city menjadi huruf kapital\n",
    "df_customers['customer_city'] = df_customers['customer_city'].str.title()\n",
    "df_customers['customer_city'].head()"
   ]
  },
  {
   "cell_type": "code",
   "execution_count": 36,
   "metadata": {
    "colab": {
     "base_uri": "https://localhost:8080/",
     "height": 206
    },
    "id": "WqkwVs8YWwtz",
    "outputId": "9c8a73d0-ee64-434f-daca-d9ac7438f964"
   },
   "outputs": [
    {
     "data": {
      "text/html": [
       "<div>\n",
       "<style scoped>\n",
       "    .dataframe tbody tr th:only-of-type {\n",
       "        vertical-align: middle;\n",
       "    }\n",
       "\n",
       "    .dataframe tbody tr th {\n",
       "        vertical-align: top;\n",
       "    }\n",
       "\n",
       "    .dataframe thead th {\n",
       "        text-align: right;\n",
       "    }\n",
       "</style>\n",
       "<table border=\"1\" class=\"dataframe\">\n",
       "  <thead>\n",
       "    <tr style=\"text-align: right;\">\n",
       "      <th></th>\n",
       "      <th>customer_id</th>\n",
       "      <th>customer_unique_id</th>\n",
       "      <th>customer_city</th>\n",
       "      <th>customer_state</th>\n",
       "    </tr>\n",
       "  </thead>\n",
       "  <tbody>\n",
       "    <tr>\n",
       "      <th>0</th>\n",
       "      <td>06b8999e2fba1a1fbc88172c00ba8bc7</td>\n",
       "      <td>861eff4711a542e4b93843c6dd7febb0</td>\n",
       "      <td>Franca</td>\n",
       "      <td>Sao Paulo</td>\n",
       "    </tr>\n",
       "    <tr>\n",
       "      <th>1</th>\n",
       "      <td>18955e83d337fd6b2def6b18a428ac77</td>\n",
       "      <td>290c77bc529b7ac935b93aa66c333dc3</td>\n",
       "      <td>Sao Bernardo Do Campo</td>\n",
       "      <td>Sao Paulo</td>\n",
       "    </tr>\n",
       "    <tr>\n",
       "      <th>2</th>\n",
       "      <td>4e7b3e00288586ebd08712fdd0374a03</td>\n",
       "      <td>060e732b5b29e8181a18229c7b0b2b5e</td>\n",
       "      <td>Sao Paulo</td>\n",
       "      <td>Sao Paulo</td>\n",
       "    </tr>\n",
       "    <tr>\n",
       "      <th>3</th>\n",
       "      <td>b2b6027bc5c5109e529d4dc6358b12c3</td>\n",
       "      <td>259dac757896d24d7702b9acbbff3f3c</td>\n",
       "      <td>Mogi Das Cruzes</td>\n",
       "      <td>Sao Paulo</td>\n",
       "    </tr>\n",
       "    <tr>\n",
       "      <th>4</th>\n",
       "      <td>4f2d8ab171c80ec8364f7c12e35b23ad</td>\n",
       "      <td>345ecd01c38d18a9036ed96c73b8d066</td>\n",
       "      <td>Campinas</td>\n",
       "      <td>Sao Paulo</td>\n",
       "    </tr>\n",
       "  </tbody>\n",
       "</table>\n",
       "</div>"
      ],
      "text/plain": [
       "                        customer_id                customer_unique_id  \\\n",
       "0  06b8999e2fba1a1fbc88172c00ba8bc7  861eff4711a542e4b93843c6dd7febb0   \n",
       "1  18955e83d337fd6b2def6b18a428ac77  290c77bc529b7ac935b93aa66c333dc3   \n",
       "2  4e7b3e00288586ebd08712fdd0374a03  060e732b5b29e8181a18229c7b0b2b5e   \n",
       "3  b2b6027bc5c5109e529d4dc6358b12c3  259dac757896d24d7702b9acbbff3f3c   \n",
       "4  4f2d8ab171c80ec8364f7c12e35b23ad  345ecd01c38d18a9036ed96c73b8d066   \n",
       "\n",
       "           customer_city customer_state  \n",
       "0                 Franca      Sao Paulo  \n",
       "1  Sao Bernardo Do Campo      Sao Paulo  \n",
       "2              Sao Paulo      Sao Paulo  \n",
       "3        Mogi Das Cruzes      Sao Paulo  \n",
       "4               Campinas      Sao Paulo  "
      ]
     },
     "execution_count": 36,
     "metadata": {},
     "output_type": "execute_result"
    }
   ],
   "source": [
    "# menghapus kolom customer_zip_code_prefix yang tidak digunakan\n",
    "df_customers.drop(columns=['customer_zip_code_prefix'], inplace=True)\n",
    "df_customers.head()"
   ]
  },
  {
   "cell_type": "markdown",
   "metadata": {
    "id": "-Lf6sqhNsWAC"
   },
   "source": [
    "#### 2. Cleaning Data Pada Tabel Orders"
   ]
  },
  {
   "cell_type": "code",
   "execution_count": 37,
   "metadata": {
    "id": "FZWT1qzVr1Ws"
   },
   "outputs": [],
   "source": [
    "# mengubah tipe data yang tidak sesuai\n",
    "datetime_col = [\"order_purchase_timestamp\",\"order_approved_at\", \"order_delivered_carrier_date\",\n",
    "                \"order_delivered_customer_date\", \"order_estimated_delivery_date\"]\n",
    "\n",
    "for col in datetime_col:\n",
    "  df_orders[col] = pd.to_datetime(df_orders[col])"
   ]
  },
  {
   "cell_type": "code",
   "execution_count": 38,
   "metadata": {
    "colab": {
     "base_uri": "https://localhost:8080/"
    },
    "id": "DZ86deSjtAqZ",
    "outputId": "e2d2da43-f742-4959-d691-b2ca9ab18853"
   },
   "outputs": [
    {
     "name": "stdout",
     "output_type": "stream",
     "text": [
      "<class 'pandas.core.frame.DataFrame'>\n",
      "RangeIndex: 99441 entries, 0 to 99440\n",
      "Data columns (total 8 columns):\n",
      " #   Column                         Non-Null Count  Dtype         \n",
      "---  ------                         --------------  -----         \n",
      " 0   order_id                       99441 non-null  object        \n",
      " 1   customer_id                    99441 non-null  object        \n",
      " 2   order_status                   99441 non-null  object        \n",
      " 3   order_purchase_timestamp       99441 non-null  datetime64[ns]\n",
      " 4   order_approved_at              99281 non-null  datetime64[ns]\n",
      " 5   order_delivered_carrier_date   97658 non-null  datetime64[ns]\n",
      " 6   order_delivered_customer_date  96476 non-null  datetime64[ns]\n",
      " 7   order_estimated_delivery_date  99441 non-null  datetime64[ns]\n",
      "dtypes: datetime64[ns](5), object(3)\n",
      "memory usage: 6.1+ MB\n"
     ]
    }
   ],
   "source": [
    "# melihat perubahan tipe data pada lima kolom tsb\n",
    "df_orders.info()"
   ]
  },
  {
   "cell_type": "code",
   "execution_count": 39,
   "metadata": {
    "colab": {
     "base_uri": "https://localhost:8080/"
    },
    "id": "s_K7L_Nu5Oi8",
    "outputId": "4e65c7fd-127c-4fa2-90e7-11bb075b46bd"
   },
   "outputs": [
    {
     "data": {
      "text/plain": [
       "order_id                            0\n",
       "customer_id                         0\n",
       "order_status                        0\n",
       "order_purchase_timestamp            0\n",
       "order_approved_at                 160\n",
       "order_delivered_carrier_date     1783\n",
       "order_delivered_customer_date    2965\n",
       "order_estimated_delivery_date       0\n",
       "dtype: int64"
      ]
     },
     "execution_count": 39,
     "metadata": {},
     "output_type": "execute_result"
    }
   ],
   "source": [
    "#cek data nan\n",
    "df_orders.isna().sum()"
   ]
  },
  {
   "cell_type": "markdown",
   "metadata": {
    "id": "-1_AXn5dQA6m"
   },
   "source": [
    "nilai nan tidak di handling karena kemungkinan terjadi karena order status yang belum delivered atau selesai"
   ]
  },
  {
   "cell_type": "markdown",
   "metadata": {
    "id": "r8QRQ1p0vH95"
   },
   "source": [
    "#### 3. Cleaning Pada Table Order Item"
   ]
  },
  {
   "cell_type": "code",
   "execution_count": 40,
   "metadata": {
    "id": "-P_gfrv0vJmb"
   },
   "outputs": [],
   "source": [
    "# mengubah tipe data shipping_limit_date menjadi datetime\n",
    "df_order_items['shipping_limit_date'] = pd.to_datetime(df_order_items['shipping_limit_date'])"
   ]
  },
  {
   "cell_type": "code",
   "execution_count": 41,
   "metadata": {
    "colab": {
     "base_uri": "https://localhost:8080/"
    },
    "id": "R587CxPqv1yU",
    "outputId": "8a12c3f4-f8fd-49dc-f9aa-eea571ba9439"
   },
   "outputs": [
    {
     "name": "stdout",
     "output_type": "stream",
     "text": [
      "<class 'pandas.core.frame.DataFrame'>\n",
      "RangeIndex: 112650 entries, 0 to 112649\n",
      "Data columns (total 7 columns):\n",
      " #   Column               Non-Null Count   Dtype         \n",
      "---  ------               --------------   -----         \n",
      " 0   order_id             112650 non-null  object        \n",
      " 1   order_item_id        112650 non-null  int64         \n",
      " 2   product_id           112650 non-null  object        \n",
      " 3   seller_id            112650 non-null  object        \n",
      " 4   shipping_limit_date  112650 non-null  datetime64[ns]\n",
      " 5   price                112650 non-null  float64       \n",
      " 6   freight_value        112650 non-null  float64       \n",
      "dtypes: datetime64[ns](1), float64(2), int64(1), object(3)\n",
      "memory usage: 6.0+ MB\n"
     ]
    }
   ],
   "source": [
    "df_order_items.info()"
   ]
  },
  {
   "cell_type": "code",
   "execution_count": 42,
   "metadata": {
    "id": "C0zAdIQoX2Wv"
   },
   "outputs": [],
   "source": [
    "# menghapus atribut seller_id karena tidak dibutuhkan\n",
    "df_order_items.drop(columns=['seller_id'], inplace=True)"
   ]
  },
  {
   "cell_type": "code",
   "execution_count": 43,
   "metadata": {
    "colab": {
     "base_uri": "https://localhost:8080/",
     "height": 226
    },
    "id": "r3KVa9H1N_fN",
    "outputId": "a4d0c70e-1553-4470-8c5d-014c5dd9c6be"
   },
   "outputs": [
    {
     "data": {
      "text/html": [
       "<div>\n",
       "<style scoped>\n",
       "    .dataframe tbody tr th:only-of-type {\n",
       "        vertical-align: middle;\n",
       "    }\n",
       "\n",
       "    .dataframe tbody tr th {\n",
       "        vertical-align: top;\n",
       "    }\n",
       "\n",
       "    .dataframe thead th {\n",
       "        text-align: right;\n",
       "    }\n",
       "</style>\n",
       "<table border=\"1\" class=\"dataframe\">\n",
       "  <thead>\n",
       "    <tr style=\"text-align: right;\">\n",
       "      <th></th>\n",
       "      <th>order_id</th>\n",
       "      <th>order_item_id</th>\n",
       "      <th>product_id</th>\n",
       "      <th>shipping_limit_date</th>\n",
       "      <th>price</th>\n",
       "      <th>freight_value</th>\n",
       "      <th>total_order</th>\n",
       "    </tr>\n",
       "  </thead>\n",
       "  <tbody>\n",
       "    <tr>\n",
       "      <th>0</th>\n",
       "      <td>00010242fe8c5a6d1ba2dd792cb16214</td>\n",
       "      <td>1</td>\n",
       "      <td>4244733e06e7ecb4970a6e2683c13e61</td>\n",
       "      <td>2017-09-19 09:45:35</td>\n",
       "      <td>58.90</td>\n",
       "      <td>13.29</td>\n",
       "      <td>72.19</td>\n",
       "    </tr>\n",
       "    <tr>\n",
       "      <th>1</th>\n",
       "      <td>00018f77f2f0320c557190d7a144bdd3</td>\n",
       "      <td>1</td>\n",
       "      <td>e5f2d52b802189ee658865ca93d83a8f</td>\n",
       "      <td>2017-05-03 11:05:13</td>\n",
       "      <td>239.90</td>\n",
       "      <td>19.93</td>\n",
       "      <td>259.83</td>\n",
       "    </tr>\n",
       "    <tr>\n",
       "      <th>2</th>\n",
       "      <td>000229ec398224ef6ca0657da4fc703e</td>\n",
       "      <td>1</td>\n",
       "      <td>c777355d18b72b67abbeef9df44fd0fd</td>\n",
       "      <td>2018-01-18 14:48:30</td>\n",
       "      <td>199.00</td>\n",
       "      <td>17.87</td>\n",
       "      <td>216.87</td>\n",
       "    </tr>\n",
       "    <tr>\n",
       "      <th>3</th>\n",
       "      <td>00024acbcdf0a6daa1e931b038114c75</td>\n",
       "      <td>1</td>\n",
       "      <td>7634da152a4610f1595efa32f14722fc</td>\n",
       "      <td>2018-08-15 10:10:18</td>\n",
       "      <td>12.99</td>\n",
       "      <td>12.79</td>\n",
       "      <td>25.78</td>\n",
       "    </tr>\n",
       "    <tr>\n",
       "      <th>4</th>\n",
       "      <td>00042b26cf59d7ce69dfabb4e55b4fd9</td>\n",
       "      <td>1</td>\n",
       "      <td>ac6c3623068f30de03045865e4e10089</td>\n",
       "      <td>2017-02-13 13:57:51</td>\n",
       "      <td>199.90</td>\n",
       "      <td>18.14</td>\n",
       "      <td>218.04</td>\n",
       "    </tr>\n",
       "  </tbody>\n",
       "</table>\n",
       "</div>"
      ],
      "text/plain": [
       "                           order_id  order_item_id  \\\n",
       "0  00010242fe8c5a6d1ba2dd792cb16214              1   \n",
       "1  00018f77f2f0320c557190d7a144bdd3              1   \n",
       "2  000229ec398224ef6ca0657da4fc703e              1   \n",
       "3  00024acbcdf0a6daa1e931b038114c75              1   \n",
       "4  00042b26cf59d7ce69dfabb4e55b4fd9              1   \n",
       "\n",
       "                         product_id shipping_limit_date   price  \\\n",
       "0  4244733e06e7ecb4970a6e2683c13e61 2017-09-19 09:45:35   58.90   \n",
       "1  e5f2d52b802189ee658865ca93d83a8f 2017-05-03 11:05:13  239.90   \n",
       "2  c777355d18b72b67abbeef9df44fd0fd 2018-01-18 14:48:30  199.00   \n",
       "3  7634da152a4610f1595efa32f14722fc 2018-08-15 10:10:18   12.99   \n",
       "4  ac6c3623068f30de03045865e4e10089 2017-02-13 13:57:51  199.90   \n",
       "\n",
       "   freight_value  total_order  \n",
       "0          13.29        72.19  \n",
       "1          19.93       259.83  \n",
       "2          17.87       216.87  \n",
       "3          12.79        25.78  \n",
       "4          18.14       218.04  "
      ]
     },
     "execution_count": 43,
     "metadata": {},
     "output_type": "execute_result"
    }
   ],
   "source": [
    "# menambahkan kolom baru bernama total_order yang merupakan hasil penjumlahan column price + freight_value\n",
    "df_order_items.insert(6, 'total_order', df_order_items['price'] + df_order_items['freight_value'])\n",
    "df_order_items.head()"
   ]
  },
  {
   "cell_type": "markdown",
   "metadata": {
    "id": "gYczBCYWu89s"
   },
   "source": [
    "total harga yang harus dibayarkan pelanggan adalah nilai price ditambah dengan freight value (biaya ongkos kirim), sehingga perlu dibuatkan sebuah kolom baru yang menyimpan nilai total harga orderan pelanggan"
   ]
  },
  {
   "cell_type": "markdown",
   "metadata": {
    "id": "3FmW5XiexhRQ"
   },
   "source": [
    "#### 4. Cleaning Data Pada Tabel Product Category Name"
   ]
  },
  {
   "cell_type": "code",
   "execution_count": 44,
   "metadata": {
    "colab": {
     "base_uri": "https://localhost:8080/",
     "height": 423
    },
    "id": "tnOXwgivbBRA",
    "outputId": "1707bac9-7eca-49fa-9df2-22cd285478e7"
   },
   "outputs": [
    {
     "data": {
      "text/html": [
       "<div>\n",
       "<style scoped>\n",
       "    .dataframe tbody tr th:only-of-type {\n",
       "        vertical-align: middle;\n",
       "    }\n",
       "\n",
       "    .dataframe tbody tr th {\n",
       "        vertical-align: top;\n",
       "    }\n",
       "\n",
       "    .dataframe thead th {\n",
       "        text-align: right;\n",
       "    }\n",
       "</style>\n",
       "<table border=\"1\" class=\"dataframe\">\n",
       "  <thead>\n",
       "    <tr style=\"text-align: right;\">\n",
       "      <th></th>\n",
       "      <th>product_category_name</th>\n",
       "      <th>product_category_name_english</th>\n",
       "      <th>0</th>\n",
       "      <th>1</th>\n",
       "    </tr>\n",
       "  </thead>\n",
       "  <tbody>\n",
       "    <tr>\n",
       "      <th>0</th>\n",
       "      <td>beleza_saude</td>\n",
       "      <td>health_beauty</td>\n",
       "      <td>NaN</td>\n",
       "      <td>NaN</td>\n",
       "    </tr>\n",
       "    <tr>\n",
       "      <th>1</th>\n",
       "      <td>informatica_acessorios</td>\n",
       "      <td>computers_accessories</td>\n",
       "      <td>NaN</td>\n",
       "      <td>NaN</td>\n",
       "    </tr>\n",
       "    <tr>\n",
       "      <th>2</th>\n",
       "      <td>automotivo</td>\n",
       "      <td>auto</td>\n",
       "      <td>NaN</td>\n",
       "      <td>NaN</td>\n",
       "    </tr>\n",
       "    <tr>\n",
       "      <th>3</th>\n",
       "      <td>cama_mesa_banho</td>\n",
       "      <td>bed_bath_table</td>\n",
       "      <td>NaN</td>\n",
       "      <td>NaN</td>\n",
       "    </tr>\n",
       "    <tr>\n",
       "      <th>4</th>\n",
       "      <td>moveis_decoracao</td>\n",
       "      <td>furniture_decor</td>\n",
       "      <td>NaN</td>\n",
       "      <td>NaN</td>\n",
       "    </tr>\n",
       "    <tr>\n",
       "      <th>...</th>\n",
       "      <td>...</td>\n",
       "      <td>...</td>\n",
       "      <td>...</td>\n",
       "      <td>...</td>\n",
       "    </tr>\n",
       "    <tr>\n",
       "      <th>67</th>\n",
       "      <td>artes_e_artesanato</td>\n",
       "      <td>arts_and_craftmanship</td>\n",
       "      <td>NaN</td>\n",
       "      <td>NaN</td>\n",
       "    </tr>\n",
       "    <tr>\n",
       "      <th>68</th>\n",
       "      <td>fraldas_higiene</td>\n",
       "      <td>diapers_and_hygiene</td>\n",
       "      <td>NaN</td>\n",
       "      <td>NaN</td>\n",
       "    </tr>\n",
       "    <tr>\n",
       "      <th>69</th>\n",
       "      <td>fashion_roupa_infanto_juvenil</td>\n",
       "      <td>fashion_childrens_clothes</td>\n",
       "      <td>NaN</td>\n",
       "      <td>NaN</td>\n",
       "    </tr>\n",
       "    <tr>\n",
       "      <th>70</th>\n",
       "      <td>seguros_e_servicos</td>\n",
       "      <td>security_and_services</td>\n",
       "      <td>NaN</td>\n",
       "      <td>NaN</td>\n",
       "    </tr>\n",
       "    <tr>\n",
       "      <th>71</th>\n",
       "      <td>NaN</td>\n",
       "      <td>NaN</td>\n",
       "      <td>{'product_category_name': 'pc_gamer', 'product...</td>\n",
       "      <td>{'product_category_name': 'portateis_cozinha_e...</td>\n",
       "    </tr>\n",
       "  </tbody>\n",
       "</table>\n",
       "<p>72 rows × 4 columns</p>\n",
       "</div>"
      ],
      "text/plain": [
       "            product_category_name product_category_name_english  \\\n",
       "0                    beleza_saude                 health_beauty   \n",
       "1          informatica_acessorios         computers_accessories   \n",
       "2                      automotivo                          auto   \n",
       "3                 cama_mesa_banho                bed_bath_table   \n",
       "4                moveis_decoracao               furniture_decor   \n",
       "..                            ...                           ...   \n",
       "67             artes_e_artesanato         arts_and_craftmanship   \n",
       "68                fraldas_higiene           diapers_and_hygiene   \n",
       "69  fashion_roupa_infanto_juvenil     fashion_childrens_clothes   \n",
       "70             seguros_e_servicos         security_and_services   \n",
       "71                            NaN                           NaN   \n",
       "\n",
       "                                                    0  \\\n",
       "0                                                 NaN   \n",
       "1                                                 NaN   \n",
       "2                                                 NaN   \n",
       "3                                                 NaN   \n",
       "4                                                 NaN   \n",
       "..                                                ...   \n",
       "67                                                NaN   \n",
       "68                                                NaN   \n",
       "69                                                NaN   \n",
       "70                                                NaN   \n",
       "71  {'product_category_name': 'pc_gamer', 'product...   \n",
       "\n",
       "                                                    1  \n",
       "0                                                 NaN  \n",
       "1                                                 NaN  \n",
       "2                                                 NaN  \n",
       "3                                                 NaN  \n",
       "4                                                 NaN  \n",
       "..                                                ...  \n",
       "67                                                NaN  \n",
       "68                                                NaN  \n",
       "69                                                NaN  \n",
       "70                                                NaN  \n",
       "71  {'product_category_name': 'portateis_cozinha_e...  \n",
       "\n",
       "[72 rows x 4 columns]"
      ]
     },
     "execution_count": 44,
     "metadata": {},
     "output_type": "execute_result"
    }
   ],
   "source": [
    "# menambahkan data yang tidak ada di dalam tabel translate\n",
    "new_data =[{'product_category_name': 'pc_gamer', 'product_category_name_english': 'pc_gaming'}, {'product_category_name': 'portateis_cozinha_e_preparadores_de_alimentos', 'product_category_name_english': 'portable_kitchen_and_food_preparers'}]\n",
    "df_product_category_name_translation = pd.concat([df_product_category_name_translation, pd.DataFrame([new_data])], ignore_index=True)\n",
    "df_product_category_name_translation"
   ]
  },
  {
   "cell_type": "markdown",
   "metadata": {
    "id": "GRq8Hg1NuRs2"
   },
   "source": [
    "produk dengan kategori pc_gamer dan portateis_cozinha_e_preparadores_de_alimentos terdapat pada data di tabel produk, namun tidak terdaftar pada tabel product category name translate, sehingga dua kategori ini harus ditambahkan pada tabelproduct category name translate beserta translate bahasa inggrisnya"
   ]
  },
  {
   "cell_type": "code",
   "execution_count": 45,
   "metadata": {
    "id": "rQdyWyegck64"
   },
   "outputs": [
    {
     "ename": "AttributeError",
     "evalue": "'float' object has no attribute 'split'",
     "output_type": "error",
     "traceback": [
      "\u001b[1;31m---------------------------------------------------------------------------\u001b[0m",
      "\u001b[1;31mAttributeError\u001b[0m                            Traceback (most recent call last)",
      "Cell \u001b[1;32mIn[45], line 3\u001b[0m\n\u001b[0;32m      1\u001b[0m \u001b[38;5;66;03m# kapitalisasi dan menghapus underscore antar kata\u001b[39;00m\n\u001b[0;32m      2\u001b[0m \u001b[38;5;28;01mfor\u001b[39;00m i \u001b[38;5;129;01min\u001b[39;00m \u001b[38;5;28mrange\u001b[39m (\u001b[38;5;28mlen\u001b[39m(df_product_category_name_translation)):\n\u001b[1;32m----> 3\u001b[0m   df_product_category_name_translation\u001b[38;5;241m.\u001b[39miloc[i, \u001b[38;5;241m1\u001b[39m] \u001b[38;5;241m=\u001b[39m \u001b[38;5;124m\"\u001b[39m\u001b[38;5;124m \u001b[39m\u001b[38;5;124m\"\u001b[39m\u001b[38;5;241m.\u001b[39mjoin(df_product_category_name_translation\u001b[38;5;241m.\u001b[39miloc[i, \u001b[38;5;241m1\u001b[39m]\u001b[38;5;241m.\u001b[39msplit(\u001b[38;5;124m\"\u001b[39m\u001b[38;5;124m_\u001b[39m\u001b[38;5;124m\"\u001b[39m))\n\u001b[0;32m      5\u001b[0m df_product_category_name_translation[\u001b[38;5;124m'\u001b[39m\u001b[38;5;124mproduct_category_name_english\u001b[39m\u001b[38;5;124m'\u001b[39m] \u001b[38;5;241m=\u001b[39m df_product_category_name_translation[\u001b[38;5;124m'\u001b[39m\u001b[38;5;124mproduct_category_name_english\u001b[39m\u001b[38;5;124m'\u001b[39m]\u001b[38;5;241m.\u001b[39mstr\u001b[38;5;241m.\u001b[39mtitle()\n",
      "\u001b[1;31mAttributeError\u001b[0m: 'float' object has no attribute 'split'"
     ]
    }
   ],
   "source": [
    "# kapitalisasi dan menghapus underscore antar kata\n",
    "for i in range (len(df_product_category_name_translation)):\n",
    "  df_product_category_name_translation.iloc[i, 1] = \" \".join(df_product_category_name_translation.iloc[i, 1].split(\"_\"))\n",
    "\n",
    "df_product_category_name_translation['product_category_name_english'] = df_product_category_name_translation['product_category_name_english'].str.title()"
   ]
  },
  {
   "cell_type": "markdown",
   "metadata": {
    "id": "O40Hmo18umNj"
   },
   "source": [
    "kapitalisasi dan menghapus underscore antar kata digunakan untuk standarisasi nama kategori produk, agar pembaca visualisasi kita nantinya lebih mudah memahami makna visualisasi yang ingin disampaikan"
   ]
  },
  {
   "cell_type": "markdown",
   "metadata": {
    "id": "KrVW7t6Ebs-2"
   },
   "source": [
    "#### 5. Cleaning Data Pada Tabel **Product**"
   ]
  },
  {
   "cell_type": "code",
   "execution_count": null,
   "metadata": {
    "id": "lso5fxbZxklE"
   },
   "outputs": [],
   "source": [
    "# menghapus atribut tabel products yang tidak digunakan\n",
    "df_products.drop(columns=['product_name_lenght', 'product_description_lenght',\n",
    "                            \"product_photos_qty\",\"product_weight_g\", \"product_length_cm\", \"product_height_cm\",\n",
    "                            \"product_width_cm\"], inplace=True)"
   ]
  },
  {
   "cell_type": "code",
   "execution_count": null,
   "metadata": {
    "id": "-NXYBsr106jL"
   },
   "outputs": [],
   "source": [
    "# mengganti nama kategori produk dengan bahasa inggris menggunakan data dari tabel product category translate\n",
    "for i in range(len(df_products)):\n",
    "  for j in range(len(df_product_category_name_translation)):\n",
    "    if (df_products['product_category_name'][i] == df_product_category_name_translation['product_category_name'][j]):\n",
    "      df_products['product_category_name'][i] = df_product_category_name_translation['product_category_name_english'][j]"
   ]
  },
  {
   "cell_type": "code",
   "execution_count": null,
   "metadata": {
    "id": "iUwzafryhaT1"
   },
   "outputs": [],
   "source": [
    "# mengganti nama kategori produk bernilai nan dengan \"Others\"\n",
    "df_products['product_category_name'].fillna('Others', inplace=True)"
   ]
  },
  {
   "cell_type": "markdown",
   "metadata": {
    "id": "J7bcgY7xvfs3"
   },
   "source": [
    "data produk dengan nilai kategori produk adalah NaN selanjutnya dikategorikan sebagai produk berkategori \"Others\""
   ]
  },
  {
   "cell_type": "code",
   "execution_count": null,
   "metadata": {
    "colab": {
     "base_uri": "https://localhost:8080/"
    },
    "id": "nVJfVRRV4VYT",
    "outputId": "3232f27d-c1bf-4a25-9be7-fb52c8aade58"
   },
   "outputs": [],
   "source": [
    "# melihat nama kategori produk yang telah berhasil diubah ke bahasa inggris\n",
    "df_products['product_category_name'].head()"
   ]
  },
  {
   "cell_type": "code",
   "execution_count": null,
   "metadata": {
    "colab": {
     "base_uri": "https://localhost:8080/"
    },
    "id": "i542536fxngY",
    "outputId": "8a876650-2829-4321-b5f1-567f7c628ad9"
   },
   "outputs": [],
   "source": [
    "# periksa nilai nan pada data products\n",
    "df_products.isna().sum()"
   ]
  },
  {
   "cell_type": "markdown",
   "metadata": {
    "id": "7nRcZ4qnhv1g"
   },
   "source": [
    "#### 6. Cleaning Data Tabel Payment"
   ]
  },
  {
   "cell_type": "code",
   "execution_count": null,
   "metadata": {
    "id": "VFlDZsPBhyKl"
   },
   "outputs": [],
   "source": [
    "# menghapus columns yang tidak digunakan\n",
    "df_orders_payment.drop(columns=[\"payment_sequential\", \"payment_installments\", \"payment_value\"], inplace=True)"
   ]
  },
  {
   "cell_type": "code",
   "execution_count": null,
   "metadata": {
    "id": "Juq0aC4xgxOr"
   },
   "outputs": [],
   "source": [
    "# kapitalisasi dan menghapus underscore antar kata pada data payment_type\n",
    "for i in range (len(df_orders_payment)):\n",
    "  df_orders_payment.iloc[i, 1] = \" \".join(df_orders_payment.iloc[i, 1].split(\"_\"))\n",
    "\n",
    "df_orders_payment['payment_type'] = df_orders_payment['payment_type'].str.title()"
   ]
  },
  {
   "cell_type": "markdown",
   "metadata": {
    "id": "3kmgBcXUu4CS"
   },
   "source": [
    "kapitalisasi dan menghapus underscore antar kata digunakan untuk standarisasi nama tipe pembayaran, agar pembaca visualisasi kita nantinya lebih mudah memahami makna visualisasi yang ingin disampaikan"
   ]
  },
  {
   "cell_type": "markdown",
   "metadata": {
    "id": "N9Zj9YfQiwZI"
   },
   "source": [
    "#### 7. Merge Table"
   ]
  },
  {
   "cell_type": "code",
   "execution_count": null,
   "metadata": {
    "colab": {
     "base_uri": "https://localhost:8080/",
     "height": 244
    },
    "id": "YpmPEffVi2QX",
    "outputId": "4fe8e8c9-f5f3-4b7d-b345-1934369115ff"
   },
   "outputs": [],
   "source": [
    "# Left join data pada tabel orders, tabel customer, dan tabel payment untuk mengambil seluruh data customer yang pernah melakukan transaksi beserta data transaksinya dan tipe pembayaran yang digunakan\n",
    "df_cust_order_pay = pd.merge(\n",
    "    left = pd.merge(left=df_orders,\n",
    "              right=df_customers,\n",
    "              how=\"left\",\n",
    "              left_on=\"customer_id\",\n",
    "              right_on=\"customer_id\"),\n",
    "    right=df_orders_payment,\n",
    "    how=\"left\",\n",
    "    left_on=\"order_id\",\n",
    "    right_on=\"order_id\"\n",
    ")\n",
    "\n",
    "print(\"Ukuran data df_cust_order_pay: \", df_cust_order_pay.shape)\n",
    "df_cust_order_pay.head()"
   ]
  },
  {
   "cell_type": "code",
   "execution_count": null,
   "metadata": {
    "colab": {
     "base_uri": "https://localhost:8080/",
     "height": 244
    },
    "id": "uuqTvSQNlr1a",
    "outputId": "98552d5c-6b13-4fdd-8cd6-a911833eaded"
   },
   "outputs": [],
   "source": [
    "# join tabel df_order_items, df_products\n",
    "df_items_prod = pd.merge(left = df_order_items, right=df_products,\n",
    "                         how=\"left\",left_on=\"product_id\",right_on=\"product_id\")\n",
    "\n",
    "print(\"Ukuran data df_items_prod: \", df_items_prod.shape)\n",
    "df_items_prod.head()"
   ]
  },
  {
   "cell_type": "code",
   "execution_count": null,
   "metadata": {
    "colab": {
     "base_uri": "https://localhost:8080/",
     "height": 261
    },
    "id": "LU2H1D0UoJbB",
    "outputId": "f7a8de6c-6712-4c68-d198-60ecfaa577f9"
   },
   "outputs": [],
   "source": [
    "# join kedua df_cust_order_pay dan df_items_prod\n",
    "df_all = pd.merge(\n",
    "    left=df_cust_order_pay,\n",
    "    right=df_items_prod,\n",
    "    how=\"right\",\n",
    "    left_on=\"order_id\",\n",
    "    right_on=\"order_id\"\n",
    ")\n",
    "print(\"Ukuran data df_all: \", df_all.shape)\n",
    "df_all.head()"
   ]
  },
  {
   "cell_type": "code",
   "execution_count": null,
   "metadata": {
    "colab": {
     "base_uri": "https://localhost:8080/"
    },
    "id": "e1Eb40KnpD4e",
    "outputId": "3bd24ad3-6d9c-435b-cf8b-8277867b66df"
   },
   "outputs": [],
   "source": [
    "# cek data apakah ada yang null\n",
    "df_all.isnull().sum()"
   ]
  },
  {
   "cell_type": "code",
   "execution_count": null,
   "metadata": {
    "colab": {
     "base_uri": "https://localhost:8080/"
    },
    "id": "MeELAnlpYEBj",
    "outputId": "dd0a570e-52c1-4c36-97a3-9eb20363e333"
   },
   "outputs": [],
   "source": [
    "# cek status order\n",
    "\n",
    "df_all['order_status'].unique()"
   ]
  },
  {
   "cell_type": "code",
   "execution_count": null,
   "metadata": {
    "id": "2KZfUpERYhY3"
   },
   "outputs": [],
   "source": [
    "'''mengambil data order yang hanya berstatus 'delivered', 'shipped', 'invoiced', 'processing','unavailable',\n",
    "karena data order dengan status canceled dan unavailable dianggap tidak dibutuhkan untuk tujuan analisis'''\n",
    "\n",
    "df_all = df_all[df_all[\"order_status\"] != \"canceled\"]\n",
    "df_all = df_all[df_all[\"order_status\"] != \"unavailable\"]"
   ]
  },
  {
   "cell_type": "code",
   "execution_count": null,
   "metadata": {
    "colab": {
     "base_uri": "https://localhost:8080/",
     "height": 243
    },
    "id": "2v-qj3hfbMji",
    "outputId": "8d8b30e0-4c83-4099-bbbd-48c7143361b7"
   },
   "outputs": [],
   "source": [
    "df_all.head()"
   ]
  },
  {
   "cell_type": "code",
   "execution_count": null,
   "metadata": {
    "id": "umWBunbh38vg"
   },
   "outputs": [],
   "source": [
    "df_all.to_csv(\"preprocessing_brazilian_ecommerce_olist_store.csv\", index=False)"
   ]
  },
  {
   "cell_type": "markdown",
   "metadata": {
    "id": "4GE8awzBisfU"
   },
   "source": [
    "## Exploratory Data Analysis"
   ]
  },
  {
   "cell_type": "markdown",
   "metadata": {
    "id": "ktqOT-bWPzwz"
   },
   "source": [
    "#### Sebaran Customer Berdasarkan kota dan negara asal"
   ]
  },
  {
   "cell_type": "code",
   "execution_count": null,
   "metadata": {
    "colab": {
     "base_uri": "https://localhost:8080/",
     "height": 362
    },
    "id": "VPdrzCWDsv78",
    "outputId": "bf6fa82e-66f3-4a04-d35b-e2b09735ce54"
   },
   "outputs": [],
   "source": [
    "customers_by_state = df_all.groupby(by=\"customer_state\").agg(num_customer = ('customer_unique_id', 'nunique')).reset_index()\n",
    "customers_by_state_desc = customers_by_state.sort_values(by=[\"num_customer\"], ascending=False)\n",
    "display(customers_by_state_desc.head(10))"
   ]
  },
  {
   "cell_type": "markdown",
   "metadata": {
    "id": "qqGhpmnDehl_"
   },
   "source": [
    "Pelanggan Olist Store paling banyak berasal dari negara Sao Paulo, yaitu sebanyak 39747 pelanggan"
   ]
  },
  {
   "cell_type": "code",
   "execution_count": null,
   "metadata": {
    "colab": {
     "base_uri": "https://localhost:8080/",
     "height": 362
    },
    "id": "J0duAb2yPu8s",
    "outputId": "634bacd4-aa7b-4f3c-eeb9-8706b7385789"
   },
   "outputs": [],
   "source": [
    "customers_by_city = df_all.groupby(by=\"customer_city\").agg(num_customer = ('customer_unique_id', 'nunique')).reset_index()\n",
    "customers_by_city_desc = customers_by_city.sort_values(by=[\"num_customer\"], ascending=False)\n",
    "display(customers_by_city_desc.head(10))"
   ]
  },
  {
   "cell_type": "markdown",
   "metadata": {
    "id": "DBbNeKpIRlv5"
   },
   "source": [
    "Pelanggan Olist Store paling banyak berasal dari kota Sao Paulo, yaitu sebanyak 14761 pelanggan"
   ]
  },
  {
   "cell_type": "markdown",
   "metadata": {
    "id": "fBnlvC-7Sp3K"
   },
   "source": [
    "#### Transaksi Berdasarkan Kategori Produk"
   ]
  },
  {
   "cell_type": "code",
   "execution_count": null,
   "metadata": {
    "colab": {
     "base_uri": "https://localhost:8080/",
     "height": 206
    },
    "id": "gcuPN7BiSvNb",
    "outputId": "1fe9e98b-9857-44f0-b8fa-027fdbc78db6"
   },
   "outputs": [],
   "source": [
    "# kategori produk yang paling sering dibeli\n",
    "order_by_product_cat = df_all.groupby(by=\"product_category_name\").agg(num_order = ('order_id', 'count'))\n",
    "order_by_product_cat_desc = order_by_product_cat.sort_values(by=['num_order'], ascending=False).reset_index()\n",
    "order_by_product_cat_desc.head(5)"
   ]
  },
  {
   "cell_type": "markdown",
   "metadata": {
    "id": "YBymp2n1UzXE"
   },
   "source": [
    "kategori produk yang paling banyak dibeli pelanggan adalah produk berkategori Bed Bath Table dengan 11823 kali pesanan"
   ]
  },
  {
   "cell_type": "code",
   "execution_count": null,
   "metadata": {
    "colab": {
     "base_uri": "https://localhost:8080/",
     "height": 206
    },
    "id": "pubFueBZTZRq",
    "outputId": "53fcb462-3ebe-461a-8a67-c0821a9751b1"
   },
   "outputs": [],
   "source": [
    "# kategori produk yang paling jarang dibeli\n",
    "order_by_product_cat_asc = order_by_product_cat.sort_values(by=['num_order'], ascending=True).reset_index()\n",
    "order_by_product_cat_asc.head(5)"
   ]
  },
  {
   "cell_type": "markdown",
   "metadata": {
    "id": "R-pRuN_fVYKI"
   },
   "source": [
    "kategori produk yang paling sedikit dibeli pelanggan adalah produk berkategori Security and Services yang hanya 2 kali pesanan"
   ]
  },
  {
   "cell_type": "markdown",
   "metadata": {
    "id": "dbSpqdW4gOqo"
   },
   "source": [
    "#### Tipe Pembayaran Yang Digunakan"
   ]
  },
  {
   "cell_type": "code",
   "execution_count": null,
   "metadata": {
    "colab": {
     "base_uri": "https://localhost:8080/",
     "height": 174
    },
    "id": "XIxaUdT2VW2H",
    "outputId": "7e6af807-8179-4c30-e3d8-87fa49e1467f"
   },
   "outputs": [],
   "source": [
    "payment_by_order = df_all.groupby(by=\"payment_type\").agg(num_order = ('order_id', 'nunique'))\n",
    "payment_by_order_desc = payment_by_order.sort_values(by=['num_order'], ascending=False).reset_index()\n",
    "payment_by_order_desc"
   ]
  },
  {
   "cell_type": "markdown",
   "metadata": {
    "id": "insH3RRctvkp"
   },
   "source": [
    "terdapat empat tipe pembayaran di Olist Store, yaitu Credit Card, Boleto, Voucher, dan Debit Card. Credit Card merupakan tipe pembayaran yang paling banyak digunakan oleh pelanggan Olist Store dalam bertransaksi."
   ]
  },
  {
   "cell_type": "markdown",
   "metadata": {
    "id": "JbrJK3EqiWAf"
   },
   "source": [
    "#### Perkembangan jumlah order dari pelanggan setiap bulannya pada tahun 2016-2018"
   ]
  },
  {
   "cell_type": "code",
   "execution_count": null,
   "metadata": {
    "id": "KeKOrzZgi3AJ"
   },
   "outputs": [],
   "source": [
    "# menambahkan kolom month order untuk menyimpan bulan order\n",
    "df_all.insert(5,'month_order', df_all['order_purchase_timestamp'].dt.strftime('%m-%Y'))"
   ]
  },
  {
   "cell_type": "code",
   "execution_count": null,
   "metadata": {
    "colab": {
     "base_uri": "https://localhost:8080/",
     "height": 206
    },
    "id": "dlBXhc-Rf-5k",
    "outputId": "37311572-c4ba-45b4-b1e6-8f1e7dad9616"
   },
   "outputs": [],
   "source": [
    "# melakukan agregasi jumlah transaksi dan total nominal belanja yang terjadi tiap bulannya\n",
    "order_by_month = df_all.resample(rule='M', on='order_purchase_timestamp').agg(num_order = ('order_id','nunique'), sum_total_order = ('total_order','sum')).reset_index()\n",
    "order_by_month = order_by_month.rename(columns ={\"order_purchase_timestamp\":\"month_order\"})\n",
    "order_by_month['month_order'] = order_by_month ['month_order'].dt.strftime('%m-%Y')\n",
    "order_by_month.sort_values(by=['num_order'], ascending=False).head()"
   ]
  },
  {
   "cell_type": "markdown",
   "metadata": {
    "id": "cZAxn_UTm9e3"
   },
   "source": [
    "jumlah transaksi paling banyak terjadi pada rentang tahun 2016-2018 terjadi pada bulan november 2017 dengan jumlah 7421 pesanan dengan total nominal belanja adalah 1.214.882,73 real"
   ]
  },
  {
   "cell_type": "markdown",
   "metadata": {
    "id": "VHcjbu-BoKZa"
   },
   "source": [
    "### RFM Analysis\n",
    "\n",
    "Analisis RFM (Recency, Frekuensi, Moneter) adalah pendekatan berbasis perilaku yang mengelompokkan pelanggan ke dalam segmen. Analisis RFM mempertimbangkan 3 hal berikut:\n",
    "- Rencency : Seberapa baru pelanggan melakukan transaksi. Semakin kecil angkanya, menunjukkan pelanggan ybs aktif berbelanja\n",
    "- Frequency : Seberapa sering pelanggan melakukan transaksi. Semakin besar angkanya, menunjukkan pelanggan ybs sering berbelanja\n",
    "- Monetary : Seberapa banyak total uang yang dikeluarkan pelanggan untuk berbelanja. Semakin besar angkanya, menunjukkan pelanggan semakin banyak menghabiskan uang untuk berbelanja\n"
   ]
  },
  {
   "cell_type": "code",
   "execution_count": null,
   "metadata": {
    "id": "CGQ2JsJ9oLrM"
   },
   "outputs": [],
   "source": [
    "# dataset baru untuk analisis RFM\n",
    "df_rfm = df_all.groupby(by=\"customer_unique_id\", as_index=False).agg(\n",
    "          max_order_date = ('order_purchase_timestamp', 'max'), #ambil tanggal order terakhir pelanggan\n",
    "          frequency =  ('order_id', 'nunique'),  #ambil frekuensi order pelanggan, disimpan sebagai nilai frequency\n",
    "          monetary = ('total_order', 'sum') #ambil total nominal belanja pelanggan, disimpan sebagai nilai monetary\n",
    "         )\n",
    "\n",
    "recent_date_order = df_all['order_purchase_timestamp'].dt.date.max() #ambil data order terakhir kalinya"
   ]
  },
  {
   "cell_type": "code",
   "execution_count": null,
   "metadata": {
    "colab": {
     "base_uri": "https://localhost:8080/",
     "height": 206
    },
    "id": "K0Rrxe2YokOE",
    "outputId": "dd0f30cd-5921-466e-f784-dd713425c699"
   },
   "outputs": [],
   "source": [
    "# membuat value recency\n",
    "df_rfm['max_order_date'] = df_rfm['max_order_date'].dt.date #mengubah tipe data ke date\n",
    "df_rfm.insert(1, 'recency', df_rfm['max_order_date'].apply(lambda max_order: (recent_date_order - max_order).days)) #selisih hari date order terkahir pelanggan ybs dengan date terakhir keseluruhan pelanggan\n",
    "df_rfm.drop(columns=['max_order_date'], inplace=True)\n",
    "df_rfm.head()"
   ]
  },
  {
   "cell_type": "markdown",
   "metadata": {
    "id": "V96dX62EsH9Q"
   },
   "source": [
    "## Visualization & Explanatory Analysis"
   ]
  },
  {
   "cell_type": "markdown",
   "metadata": {
    "id": "A9V_uUSCtS6K"
   },
   "source": [
    "### Bagaimana sebaran pelanggan Olist Store berdasarkan kota dan negara asalnya?"
   ]
  },
  {
   "cell_type": "code",
   "execution_count": null,
   "metadata": {
    "colab": {
     "base_uri": "https://localhost:8080/",
     "height": 420
    },
    "id": "Pg4tUs72sKWn",
    "outputId": "869167f4-3f07-4ff7-97cf-4f09149d54f1"
   },
   "outputs": [],
   "source": [
    "fig, ax = plt.subplots(nrows=1, ncols=2, figsize=(20, 6))\n",
    "\n",
    "sns.barplot(x=\"customer_state\", y=\"num_customer\", data=customers_by_state_desc.head(5), palette='Blues_r', ax=ax[0])\n",
    "ax[0].bar_label(ax[0].containers[0])\n",
    "ax[0].set_ylabel(\"Jumlah Pelanggan\", fontsize=15)\n",
    "ax[0].set_xlabel(\"Negara\", fontsize=15)\n",
    "ax[0].tick_params(axis='x', labelrotation=45)\n",
    "ax[0].set_title(\"Berdasarkan Negara\", loc=\"center\", fontsize=18)\n",
    "ax[0].tick_params(axis ='y', labelsize=15)\n",
    "\n",
    "sns.barplot(x=\"customer_city\", y=\"num_customer\", palette='Blues_r', data= customers_by_city_desc.head(5), ax=ax[1])\n",
    "ax[1].bar_label(ax[1].containers[0])\n",
    "ax[1].set_ylabel(\"Jumlah Pelanggan\", fontsize=15)\n",
    "ax[1].set_xlabel(\"Kota\", fontsize=15)\n",
    "ax[1].tick_params(axis='x', labelrotation=45)\n",
    "ax[1].set_title(\"Berdasarkan Kota\", loc=\"center\", fontsize=18)\n",
    "ax[1].tick_params(axis='y', labelsize=15)\n",
    "\n",
    "plt.suptitle(\"Persebaran Jumlah Pelanggan Berdasarkan Kota dan Negara Asal\", fontsize=20)\n",
    "plt.show()"
   ]
  },
  {
   "cell_type": "markdown",
   "metadata": {
    "id": "Pu8tepKuw1Mf"
   },
   "source": [
    "Jika dilihat berdasarkan negara asal pelanggan, pelanggan Olist Store paling banyak berasal dari negara Sao Paulo dengan jumlah 39.747 pelanggan. Di urutan kedua diikuti oleh negara Rio de Janeiro dengan 12241 pelanggan. Urutan ketiga diikuti oleh negara Minas Gerais dengan 11.134 pelanggan. Jika dilihat berdasarkan kota asal pelanggan, pelanggan Olist Store paling banyak berasal dari kota Sao Paulo dengan 14.761 pelanggan. Posisi kedua terbanyak diikuti oleh kota Rip De Janeiro dengan 6.545 pelanggan dan posisi ketiga diikuti kota Belo Horizonte dengan 2.641 pelanggan."
   ]
  },
  {
   "cell_type": "markdown",
   "metadata": {
    "id": "Op7LTRvTwxgx"
   },
   "source": [
    "### Kategori produk manakah yang paling sering dibeli dan paling jarang dibeli pelanggan?"
   ]
  },
  {
   "cell_type": "code",
   "execution_count": null,
   "metadata": {
    "colab": {
     "base_uri": "https://localhost:8080/",
     "height": 468
    },
    "id": "EoLNBacew0qh",
    "outputId": "d6d28051-6bb6-4bd0-bb8f-2a0a6e623311"
   },
   "outputs": [],
   "source": [
    "fig, ax = plt.subplots(nrows=1, ncols=2, figsize=(20, 6))\n",
    "\n",
    "sns.barplot(x=\"product_category_name\", y=\"num_order\", data=order_by_product_cat_desc.head(5), palette='Blues_r', ax=ax[0])\n",
    "ax[0].bar_label(ax[0].containers[0])\n",
    "ax[0].set_ylabel(\"Jumlah Order\", fontsize=15)\n",
    "ax[0].set_xlabel(\"Kategori Produk\", fontsize=15)\n",
    "ax[0].tick_params(axis='x', labelrotation=45)\n",
    "ax[0].set_title(\"Berdasarkan Jumlah Order Paling Banyak Dipesan\", loc=\"center\", fontsize=18)\n",
    "ax[0].tick_params(axis ='y', labelsize=15)\n",
    "\n",
    "sns.barplot(x=\"product_category_name\", y=\"num_order\", palette='Blues_r', data= order_by_product_cat_asc.head(5), ax=ax[1])\n",
    "ax[1].bar_label(ax[1].containers[0])\n",
    "ax[1].set_ylabel(\"Jumlah Order\", fontsize=15)\n",
    "ax[1].set_xlabel(\"Kategori Produk\", fontsize=15)\n",
    "ax[1].tick_params(axis='x', labelrotation=45)\n",
    "ax[1].set_title(\"Berdasarkan Jumlah Order Paling Sedikit Dipesan\", loc=\"center\", fontsize=18)\n",
    "ax[1].tick_params(axis='y', labelsize=15)\n",
    "\n",
    "plt.suptitle(\"8 Kategori Produk Yang Paling Banyak dan Paling Sedikit Di Order\", fontsize=20)\n",
    "plt.show()"
   ]
  },
  {
   "cell_type": "markdown",
   "metadata": {
    "id": "oQddamwDx7-P"
   },
   "source": [
    "5 Kategori produk yang paling sering dibeli oleh pelanggan Olist Store secara berurut adalah Bed Bath Table dengan 11.805 kali pembelian, Health Beuaty dengan 9.935 kali pembelian, Sports Leisure dengan 8.893 kali pembelian, Furniture Decor dengan 8.707 kali pembelian, Computers Accessories dengan 8036 kali pembelian. Kemudian, 5 kategori produk yang paling sedikit dibeli oleh pelanggan Olist Store secara berurutan adalah Security and Services dengan hanya 2 kali pembelian, Fashion Childrens Clothes dengan 8 kali pembelian, PC Gaming dengan 9 kali pembelian, Cds Dvds Musicals dengan 14 kali pembelian, dan Portable Kitchen and Food Preparation dengan 14 kali pembelian."
   ]
  },
  {
   "cell_type": "markdown",
   "metadata": {
    "id": "x1eHbEGsx8DY"
   },
   "source": [
    "### Tipe pembayaran apa saja yang sering digunakan pelanggan untuk bertransaksi?"
   ]
  },
  {
   "cell_type": "code",
   "execution_count": null,
   "metadata": {
    "colab": {
     "base_uri": "https://localhost:8080/",
     "height": 367
    },
    "id": "zTgQXWKVyCgX",
    "outputId": "40289417-3eb6-425f-a715-0645052fd35b"
   },
   "outputs": [],
   "source": [
    "fig3, ax3 = plt.subplots(figsize=(4,4))\n",
    "palette_color = sns.color_palette('Blues_r')\n",
    "ax3.pie(payment_by_order_desc['num_order'], autopct='%1.1f%%', colors=palette_color)\n",
    "ax3.legend(payment_by_order_desc['payment_type'], loc='upper right', bbox_to_anchor=(1.4, 1))\n",
    "ax3.set_title('Sebaran Tipe Pembayaran Yang Digunakan Pelanggan')\n",
    "plt.show()"
   ]
  },
  {
   "cell_type": "markdown",
   "metadata": {
    "id": "lEdrNhXZz9lw"
   },
   "source": [
    "Berdasarkan empat tipe pembayaran di Olist Store, 75,3% transaksi dibayar dengan menggunakan Credit Card, 19,5% transaksi dibayar dengan Boleto, 3,7% transaksi dibayar dengan Voucher, dan 1,5% transaksi dibayar dengan Debit Card dari 100.409 transaksi yang terjadi. Artinya, pelanggan Olist Store cenderung menggunakan Credit Card sebagai cara pembayaran mereka."
   ]
  },
  {
   "cell_type": "markdown",
   "metadata": {
    "id": "msm9JfFHz-ZL"
   },
   "source": [
    "### Bagaimana perkembangan jumlah order pelanggan dari tahun 2016-2018 perbulannya?"
   ]
  },
  {
   "cell_type": "code",
   "execution_count": null,
   "metadata": {
    "colab": {
     "base_uri": "https://localhost:8080/",
     "height": 360
    },
    "id": "y22jE5he0CId",
    "outputId": "d18122e1-8b2f-4750-ae54-531ca0f621f1"
   },
   "outputs": [],
   "source": [
    "plt.figure(figsize=(20,6))\n",
    "ax = sns.lineplot(x=\"month_order\", y=\"num_order\", data=order_by_month, marker='o', color='navy', label='Jumlah Order')\n",
    "\n",
    "plt.title('Banyak Order Setiap Bulannya Pada Tahun 2016 hingga 2018')\n",
    "plt.xlabel('Bulan')\n",
    "plt.ylabel('Jumlah Order')\n",
    "plt.legend(loc='upper right')\n",
    "plt.xticks(rotation=15)\n",
    "\n",
    "for line in range(0, order_by_month.shape[0]):\n",
    "     ax.text(order_by_month.month_order[line], order_by_month.num_order[line], order_by_month.num_order[line], horizontalalignment='left', verticalalignment='top', size='medium', color='black', weight='regular')\n",
    "\n",
    "plt.show()"
   ]
  },
  {
   "cell_type": "markdown",
   "metadata": {
    "id": "rV375EVi4cTI"
   },
   "source": [
    "Jumlah order/transaksi pelanggan pada bulan September tahun 2016 hingga November tahun 2017 cenderung meningkat setiap bulannya. Sementara itu, jumlah order pada bulan Desember tahun 2017 hingga bulan September tahun 2018 mengalami fluktuasi yang cenderung stabil. Bulan November tahun 2017 mencapai jumlah order tertinggi dalam periode September tahun 2016 hingga September 2018 dengan total order sebesar 7.421 orderan. Sedangkan, total order terendah terjadi pada bulan November tahun 2016 dengan 0 orderan."
   ]
  },
  {
   "cell_type": "markdown",
   "metadata": {
    "id": "in5veV4a4cmW"
   },
   "source": [
    "### Bagaimana segmentasi pelanggan Olist Store berdasarkan nilai recency, frequency, dan monetary-nya?"
   ]
  },
  {
   "cell_type": "code",
   "execution_count": null,
   "metadata": {
    "colab": {
     "base_uri": "https://localhost:8080/",
     "height": 442
    },
    "id": "rz34rXvF5Ml3",
    "outputId": "bcffb6a5-078a-4e63-f0f9-e96e3b207877"
   },
   "outputs": [],
   "source": [
    "fig, ax = plt.subplots(nrows=1, ncols=3, figsize=(28, 8))\n",
    "\n",
    "sns.barplot(x=\"customer_unique_id\", y=\"recency\", data= df_rfm.sort_values(by='recency', ascending=True).head(10), palette='Blues_r', ax=ax[0])\n",
    "ax[0].bar_label(ax[0].containers[0])\n",
    "ax[0].set_ylabel('Hari', fontsize=12)\n",
    "ax[0].set_xlabel('ID Unik Pelanggan')\n",
    "ax[0].set_title(\"Berdasarkan Recency\", loc=\"center\", fontsize=15)\n",
    "ax[0].tick_params(axis ='y', labelsize=15)\n",
    "ax[0].set_xticklabels(ax[0].get_xticklabels(), rotation=45, horizontalalignment='right', fontsize=14)\n",
    "\n",
    "sns.barplot(x=\"customer_unique_id\", y=\"frequency\", data= df_rfm.sort_values(by='frequency', ascending=False).head(10), palette='Blues_r', ax=ax[1])\n",
    "ax[1].bar_label(ax[1].containers[0])\n",
    "ax[1].set_ylabel('Frekuensi Belanja', fontsize=12)\n",
    "ax[1].set_xlabel('ID Unik Pelanggan')\n",
    "ax[1].set_title(\"Berdasarkan Frequency\", loc=\"center\", fontsize=15)\n",
    "ax[1].tick_params(axis='y', labelsize=15)\n",
    "ax[1].set_xticklabels(ax[1].get_xticklabels(), rotation=45, horizontalalignment='right', fontsize=14)\n",
    "\n",
    "sns.barplot(x=\"customer_unique_id\", y=\"monetary\", data= df_rfm.sort_values(by='monetary', ascending=False).head(10), palette='Blues_r', ax=ax[2])\n",
    "ax[2].bar_label(ax[2].containers[0])\n",
    "ax[2].set_ylabel('Total Belanja ($)', fontsize=12)\n",
    "ax[2].set_xlabel('ID Unik Pelanggan')\n",
    "ax[2].set_title(\"Berdasarkan Monetary\", loc=\"center\", fontsize=15)\n",
    "ax[2].tick_params(axis ='y', labelsize=15)\n",
    "ax[2].set_xticklabels(ax[2].get_xticklabels(), rotation=45, horizontalalignment='right', fontsize=14)\n",
    "\n",
    "plt.suptitle(\"Pelanggan Terbaik Berdasarkan Parameter RFM\", fontsize=20)\n",
    "plt.show()"
   ]
  },
  {
   "cell_type": "markdown",
   "metadata": {
    "id": "vglGKwh9sD2Y"
   },
   "source": [
    "Ditinjau dari nilai Recencynya, pelanggan dengan ID ff22e30958c13ffe219db7d711e8f564 memiliki nilai recency 0, artinya pelanggan ini baru 0 hari yang lalu berbelanja di Olist Store. Ditinjau dari nilai frekuensi order, pelanggan dengan ID unik 8d50f5eadf50201ccdcedfb9e2ac8455 memiliki frekuensi paling tinggi diantara pelanggan lainnya, yaitu 16. Artinya, pelanggan ini telah 14 kali melakukan order di Olist Store. Terakhir, ditinjau dari nilai monetary (total belanja), pelanggan dengan ID unik 0a0a92112bd4c7008ca5fde585afaa872 memiliki nilai monetary tertinggi dengan nominal uang belanja yang telah dikeluarkannya adalah 13664.1 real."
   ]
  },
  {
   "cell_type": "code",
   "execution_count": null,
   "metadata": {
    "id": "9zXcDEHv5ajY"
   },
   "outputs": [],
   "source": [
    "# memberi rank pada pelanggan berdasarkan skor recency, frequency, dan monetary\n",
    "df_rfm['R_rank'] = df_rfm['recency'].rank(ascending=False)\n",
    "df_rfm['F_rank'] = df_rfm['frequency'].rank(ascending=True)\n",
    "df_rfm['M_rank'] = df_rfm['monetary'].rank(ascending=True)"
   ]
  },
  {
   "cell_type": "code",
   "execution_count": null,
   "metadata": {
    "id": "yZ36-ftJ6i-S"
   },
   "outputs": [],
   "source": [
    "# normalisasi rank pelanggan\n",
    "df_rfm['R_rank_norm'] = (df_rfm['R_rank']/df_rfm['R_rank'].max())*100\n",
    "df_rfm['F_rank_norm'] = (df_rfm['F_rank']/df_rfm['F_rank'].max())*100\n",
    "df_rfm['M_rank_norm'] = (df_rfm['F_rank']/df_rfm['M_rank'].max())*100"
   ]
  },
  {
   "cell_type": "code",
   "execution_count": null,
   "metadata": {
    "colab": {
     "base_uri": "https://localhost:8080/",
     "height": 206
    },
    "id": "BygeZsjx6yTJ",
    "outputId": "25945874-7038-4184-d561-6e76b2e669e0"
   },
   "outputs": [],
   "source": [
    "# hapus column R_rank, F_rank, M_rank\n",
    "df_rfm.drop(columns=['R_rank', 'F_rank', 'M_rank'], inplace=True)\n",
    "df_rfm.head()"
   ]
  },
  {
   "cell_type": "code",
   "execution_count": null,
   "metadata": {
    "id": "17anBooB64DH"
   },
   "outputs": [],
   "source": [
    "# membuat RFM Score dengan weighted value\n",
    "  # weighting masing-masing parameter\n",
    "df_rfm['RFM_score'] = 0.18*df_rfm['R_rank_norm'] + 0.30 *df_rfm['F_rank_norm'] + 0.52*df_rfm['M_rank_norm']\n",
    "  # ubah nilai RFM Score menjadi nilai dengan maksimal 5 dan membulatkannya hingga 2 desimal\n",
    "df_rfm['RFM_score'] = (0.05*df_rfm['RFM_score']).round(2)"
   ]
  },
  {
   "cell_type": "code",
   "execution_count": null,
   "metadata": {
    "colab": {
     "base_uri": "https://localhost:8080/",
     "height": 206
    },
    "id": "6UZVS-967kqp",
    "outputId": "9f212d77-9edd-4af8-9ee4-d200cd88bd90"
   },
   "outputs": [],
   "source": [
    "df_rfm = df_rfm[['customer_unique_id', 'recency','frequency','monetary','RFM_score']]\n",
    "df_rfm.head()"
   ]
  },
  {
   "cell_type": "code",
   "execution_count": null,
   "metadata": {
    "colab": {
     "base_uri": "https://localhost:8080/",
     "height": 362
    },
    "id": "SXfibLYr7vhx",
    "outputId": "726e25ff-8b2f-4a85-a3a5-265264c37313"
   },
   "outputs": [],
   "source": [
    "# memberi rating pada pelanggan untuk melakukan segmentasi\n",
    "'''RFM Score > 4.0 : Top Customer\n",
    "4.0 > RFM Score > 3 : High Value Customer\n",
    "3> RFM Score > 2 : Medium Value Customer\n",
    "2> RFM Score > 1.5 : Low Value Customer\n",
    "RFM Score <1.5 : Lost Customer'''\n",
    "\n",
    "df_rfm[\"customer_segment\"] = np.where(\n",
    "    df_rfm['RFM_score'] > 4.0, \"Top Customer\", (np.where(\n",
    "        df_rfm['RFM_score'] > 3.0, \"High Value Customer\",(np.where(\n",
    "            df_rfm['RFM_score'] > 2.0, \"Medium Value Customer\", np.where(\n",
    "                df_rfm['RFM_score'] > 1.5, 'Low Value Customer', 'Lost Customer')))))\n",
    ")\n",
    "\n",
    "df_rfm.head(10)"
   ]
  },
  {
   "cell_type": "code",
   "execution_count": null,
   "metadata": {
    "colab": {
     "base_uri": "https://localhost:8080/"
    },
    "id": "ER314M3g8Cmo",
    "outputId": "090b1e13-480b-41d0-a477-e8225a1571b2"
   },
   "outputs": [],
   "source": [
    "# melihat sebaran segmen pelanggan berdasarkan RFM score\n",
    "df_rfm.customer_segment.value_counts()"
   ]
  },
  {
   "cell_type": "code",
   "execution_count": null,
   "metadata": {
    "colab": {
     "base_uri": "https://localhost:8080/",
     "height": 523
    },
    "id": "VEYAVqyB9oUQ",
    "outputId": "5dd0de77-627d-4d89-be8a-f2a4ebfe2cf9"
   },
   "outputs": [],
   "source": [
    "plt.figure(figsize=(6,6))\n",
    "colors = [\"#196ba0\", \"#6497b2\", \"#b3cde0\"]\n",
    "plt.pie(\n",
    "    df_rfm.customer_segment.value_counts(),\n",
    "    labels= df_rfm.customer_segment.value_counts().index,\n",
    "    autopct= '%1.2f%%',\n",
    "    explode = [0, 0.2, 0.4],\n",
    "    colors= sns.color_palette(colors)\n",
    ")\n",
    "plt.title(\"Segmentasi Pelanggan Berdasarkan RFM Score\", loc='center', fontsize=15)\n",
    "plt.show()"
   ]
  },
  {
   "cell_type": "markdown",
   "metadata": {
    "id": "kLGFltIBryE8"
   },
   "source": [
    "Berdasarkan hasil segmentasi pelanggan dengan analisis RFM menunjukkan bahwa 95,08% pelanggan termasuk dalam segmen Medium Value Customer, lalu sebanyak 3,04% pelanggan termasuk dalam segmen Top Customer, dan 1,88% pelanggan masuk ke dalam segmen Low Value Customer dari total pelanggan 94.983 pelanggan."
   ]
  },
  {
   "cell_type": "markdown",
   "metadata": {
    "id": "-whvG0-oBXtN"
   },
   "source": [
    "## Conclusion"
   ]
  },
  {
   "cell_type": "markdown",
   "metadata": {
    "id": "Mkjoc6PIaOdn"
   },
   "source": [
    "\n",
    "\n",
    "\n",
    "1. Bagaimana sebaran pelanggan Olist Store berdasarkan kota dan negara asalnya?\n",
    "> Jika dilihat berdasarkan negara asal pelanggan, pelanggan Olist Store paling banyak berasal dari negara Sao Paulo dengan jumlah 39.747 pelanggan. Di urutan kedua diikuti oleh negara Rio de Janeiro\tdengan 12241 pelanggan. Urutan ketiga diikuti oleh negara Minas Gerais dengan 11.134 pelanggan.\n",
    "> Jika dilihat berdasarkan kota asal pelanggan, pelanggan Olist Store paling banyak berasal dari kota Sao Paulo\tdengan 14.761 pelanggan. Posisi kedua terbanyak diikuti oleh kota Rip De Janeiro dengan 6.545 pelanggan dan posisi ketiga diikuti kota Belo Horizonte dengan 2.641 pelanggan.\n",
    "\n",
    "---\n",
    "2. Kategori produk manakah yang paling sering dibeli dan paling jarang dibeli oleh pelanggan Olist Store?\n",
    "> 5 Kategori produk yang paling sering dibeli oleh pelanggan Olist Store secara berurut adalah Bed Bath Table dengan 11.805 kali pembelian, Health Beuaty dengan 9.935 kali pembelian, Sports Leisure dengan 8.893 kali pembelian, Furniture Decor dengan 8.707 kali pembelian, Computers Accessories dengan 8036 kali pembelian. Kemudian, 5 kategori produk yang paling sedikit dibeli oleh pelanggan Olist Store secara berurutan adalah Security and Services dengan hanya 2 kali pembelian, Fashion Childrens Clothes dengan 8 kali pembelian, PC Gaming dengan 9 kali pembelian, Cds Dvds Musicals dengan 14 kali pembelian, dan Portable Kitchen and Food Preparation dengan 14 kali pembelian.\n",
    "\n",
    "---\n",
    "3. Tipe pembayaran apa saja yang sering digunakan pelanggan untuk bertransaksi di Olist Store?\n",
    "> Pelanggan Olist Store menggunakan empat tipe pembayaran berbeda untuk melakukan transaksi di Olist Store, yaitu: Credit Card, Boleto, Voucher, dan Debit Card. Berdasarkan empat tipe pembayaran tersebut, 75,3% transaksi dibayar dengan menggunakan Credit Card, 19,5% transaksi dibayar dengan Boleto, 3,7% transaksi dibayar dengan Voucher, dan 1,5% transaksi dibayar dengan Debit Card dari 100.409 transaksi yang terjadi. Artinya, pelanggan Olist Store cenderung menggunakan Credit Card sebagai cara pembayaran mereka.\n",
    "---\n",
    "\n",
    "4. Bagaimana perkembangan jumlah order pelanggan dari tahun 2016 hingga 2018 pada setiap bulannya?\n",
    "> Jumlah order/transaksi pelanggan pada bulan September tahun 2016 hingga November tahun 2017 cenderung meningkat setiap bulannya. Sementara itu, jumlah order pada bulan Desember tahun 2017 hingga bulan September tahun 2018 mengalami fluktuasi yang cenderung stabil. Bulan November tahun 2017 mencapai jumlah order tertinggi dalam periode September tahun 2016 hingga September 2018 dengan total order sebesar 7.421 orderan. Sedangkan, total order terendah terjadi pada bulan November tahun 2016 dengan 0 orderan.\n",
    "\n",
    "---\n",
    "5. Bagaimana segmentasi pelanggan Olist Store berdasarkan nilai recency, frequency, dan monetarynya?\n",
    "> Segmentasi pelanggan Olist Store yang dinilai berdasarkan recency (kapan terakhir kali melakukan order), frequency (frekuensi order), dan monetary (total uang yang dihabiskan untuk melakukan orderan) menunjukkan bahwa 95,08% pelanggan termasuk dalam segmen Medium Value Customer, lalu sebanyak 3,04% pelanggan termasuk dalam segmen Top Customer, dan 1,88% pelanggan masuk ke dalam segmen Low Value Customer dari total pelanggan 94.983 pelanggan.\n",
    "\n",
    "\n"
   ]
  }
 ],
 "metadata": {
  "colab": {
   "provenance": []
  },
  "kernelspec": {
   "display_name": "rfm_analysis",
   "language": "python",
   "name": "rfm_analysis"
  },
  "language_info": {
   "codemirror_mode": {
    "name": "ipython",
    "version": 3
   },
   "file_extension": ".py",
   "mimetype": "text/x-python",
   "name": "python",
   "nbconvert_exporter": "python",
   "pygments_lexer": "ipython3",
   "version": "3.11.5"
  }
 },
 "nbformat": 4,
 "nbformat_minor": 1
}
